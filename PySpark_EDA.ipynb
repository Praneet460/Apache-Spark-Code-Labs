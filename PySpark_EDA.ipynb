{
  "nbformat": 4,
  "nbformat_minor": 0,
  "metadata": {
    "colab": {
      "name": "PySpark EDA.ipynb",
      "provenance": [],
      "collapsed_sections": [],
      "toc_visible": true
    },
    "kernelspec": {
      "name": "python3",
      "display_name": "Python 3"
    }
  },
  "cells": [
    {
      "cell_type": "markdown",
      "metadata": {
        "id": "ePQEC49hAZ7h",
        "colab_type": "text"
      },
      "source": [
        "Installing"
      ]
    },
    {
      "cell_type": "code",
      "metadata": {
        "id": "hyygArYrAICq",
        "colab_type": "code",
        "colab": {}
      },
      "source": [
        "# install java jdk\n",
        "!apt-get install openjdk-8-jdk-headless -qq > /dev/null\n",
        "# install spark\n",
        "!wget -q https://downloads.apache.org/spark/spark-2.4.5/spark-2.4.5-bin-hadoop2.7.tgz"
      ],
      "execution_count": 0,
      "outputs": []
    },
    {
      "cell_type": "code",
      "metadata": {
        "id": "FKaCl61RBADR",
        "colab_type": "code",
        "colab": {}
      },
      "source": [
        "# unzip the spark file\n",
        "!tar xf spark-2.4.5-bin-hadoop2.7.tgz"
      ],
      "execution_count": 0,
      "outputs": []
    },
    {
      "cell_type": "code",
      "metadata": {
        "id": "jVUNOuS9BTIr",
        "colab_type": "code",
        "colab": {}
      },
      "source": [
        "# install findspark package\n",
        "!pip install -q findspark"
      ],
      "execution_count": 0,
      "outputs": []
    },
    {
      "cell_type": "code",
      "metadata": {
        "id": "Xli6xA1bBa3q",
        "colab_type": "code",
        "colab": {
          "base_uri": "https://localhost:8080/",
          "height": 67
        },
        "outputId": "782e8022-f999-4538-b0b0-08e6ac9ac2fe"
      },
      "source": [
        "# install pyarroe\n",
        "!pip install -U pyarrow"
      ],
      "execution_count": 17,
      "outputs": [
        {
          "output_type": "stream",
          "text": [
            "Requirement already up-to-date: pyarrow in /usr/local/lib/python3.6/dist-packages (0.16.0)\n",
            "Requirement already satisfied, skipping upgrade: numpy>=1.14 in /usr/local/lib/python3.6/dist-packages (from pyarrow) (1.18.2)\n",
            "Requirement already satisfied, skipping upgrade: six>=1.0.0 in /usr/local/lib/python3.6/dist-packages (from pyarrow) (1.12.0)\n"
          ],
          "name": "stdout"
        }
      ]
    },
    {
      "cell_type": "markdown",
      "metadata": {
        "id": "k-eAJzgEBmST",
        "colab_type": "text"
      },
      "source": [
        "Setup"
      ]
    },
    {
      "cell_type": "code",
      "metadata": {
        "id": "UEHD3D5TBikt",
        "colab_type": "code",
        "colab": {}
      },
      "source": [
        "# set environment variables\n",
        "import os\n",
        "os.environ[\"JAVA_HOME\"] = \"/usr/lib/jvm/java-8-openjdk-amd64\"\n",
        "os.environ[\"SPARK_HOME\"] = \"/content/spark-2.4.5-bin-hadoop2.7\""
      ],
      "execution_count": 0,
      "outputs": []
    },
    {
      "cell_type": "code",
      "metadata": {
        "id": "bM25Yms6CJvj",
        "colab_type": "code",
        "colab": {}
      },
      "source": [
        "# initialize the Spark instance\n",
        "import findspark\n",
        "findspark.init()\n",
        "from pyspark.sql import SparkSession\n",
        "spark = SparkSession.builder.master(\"local[*]\").getOrCreate()\n",
        "spark.conf.set(\"spark.executor.memory\", \"4g\")\n",
        "spark.conf.set(\"spark.driver.memory\", \"4g\")\n",
        "spark.conf.set(\"spark.memory.fraction\", \"0.9\")"
      ],
      "execution_count": 0,
      "outputs": []
    },
    {
      "cell_type": "markdown",
      "metadata": {
        "id": "XzvQwzAGC-RQ",
        "colab_type": "text"
      },
      "source": [
        "Load Dataset"
      ]
    },
    {
      "cell_type": "code",
      "metadata": {
        "id": "58dn1J1BCzoO",
        "colab_type": "code",
        "colab": {
          "base_uri": "https://localhost:8080/",
          "height": 54
        },
        "outputId": "5059a2ef-9b5d-44dd-8626-70e2c45863ae"
      },
      "source": [
        "# load dataset in spark dataframe\n",
        "spark_df = spark.read.csv(path='/content/sample_data/california_housing_train.csv', inferSchema=True, header=True)\n",
        "spark_df"
      ],
      "execution_count": 20,
      "outputs": [
        {
          "output_type": "execute_result",
          "data": {
            "text/plain": [
              "DataFrame[longitude: double, latitude: double, housing_median_age: double, total_rooms: double, total_bedrooms: double, population: double, households: double, median_income: double, median_house_value: double]"
            ]
          },
          "metadata": {
            "tags": []
          },
          "execution_count": 20
        }
      ]
    },
    {
      "cell_type": "code",
      "metadata": {
        "id": "yVsupC_VG6Fa",
        "colab_type": "code",
        "colab": {
          "base_uri": "https://localhost:8080/",
          "height": 34
        },
        "outputId": "e5818335-a386-48f1-c54d-2d7a36cda28a"
      },
      "source": [
        "type(spark_df)"
      ],
      "execution_count": 21,
      "outputs": [
        {
          "output_type": "execute_result",
          "data": {
            "text/plain": [
              "pyspark.sql.dataframe.DataFrame"
            ]
          },
          "metadata": {
            "tags": []
          },
          "execution_count": 21
        }
      ]
    },
    {
      "cell_type": "markdown",
      "metadata": {
        "id": "yV0AZSxbKW0Y",
        "colab_type": "text"
      },
      "source": [
        "Analysis On Dataset"
      ]
    },
    {
      "cell_type": "code",
      "metadata": {
        "id": "ihIv1fvsHEcw",
        "colab_type": "code",
        "colab": {
          "base_uri": "https://localhost:8080/",
          "height": 202
        },
        "outputId": "b80379e9-395a-4417-ec5f-755e0946fcc3"
      },
      "source": [
        "# diaplay the dataset\n",
        "spark_df.show(5)"
      ],
      "execution_count": 22,
      "outputs": [
        {
          "output_type": "stream",
          "text": [
            "+---------+--------+------------------+-----------+--------------+----------+----------+-------------+------------------+\n",
            "|longitude|latitude|housing_median_age|total_rooms|total_bedrooms|population|households|median_income|median_house_value|\n",
            "+---------+--------+------------------+-----------+--------------+----------+----------+-------------+------------------+\n",
            "|  -114.31|   34.19|              15.0|     5612.0|        1283.0|    1015.0|     472.0|       1.4936|           66900.0|\n",
            "|  -114.47|    34.4|              19.0|     7650.0|        1901.0|    1129.0|     463.0|         1.82|           80100.0|\n",
            "|  -114.56|   33.69|              17.0|      720.0|         174.0|     333.0|     117.0|       1.6509|           85700.0|\n",
            "|  -114.57|   33.64|              14.0|     1501.0|         337.0|     515.0|     226.0|       3.1917|           73400.0|\n",
            "|  -114.57|   33.57|              20.0|     1454.0|         326.0|     624.0|     262.0|        1.925|           65500.0|\n",
            "+---------+--------+------------------+-----------+--------------+----------+----------+-------------+------------------+\n",
            "only showing top 5 rows\n",
            "\n"
          ],
          "name": "stdout"
        }
      ]
    },
    {
      "cell_type": "code",
      "metadata": {
        "id": "32odxvfsHNzr",
        "colab_type": "code",
        "colab": {
          "base_uri": "https://localhost:8080/",
          "height": 202
        },
        "outputId": "bbb85181-d09f-470d-a3db-0ef37dab9d3c"
      },
      "source": [
        "# display the schema of the dataset\n",
        "spark_df.printSchema()"
      ],
      "execution_count": 23,
      "outputs": [
        {
          "output_type": "stream",
          "text": [
            "root\n",
            " |-- longitude: double (nullable = true)\n",
            " |-- latitude: double (nullable = true)\n",
            " |-- housing_median_age: double (nullable = true)\n",
            " |-- total_rooms: double (nullable = true)\n",
            " |-- total_bedrooms: double (nullable = true)\n",
            " |-- population: double (nullable = true)\n",
            " |-- households: double (nullable = true)\n",
            " |-- median_income: double (nullable = true)\n",
            " |-- median_house_value: double (nullable = true)\n",
            "\n"
          ],
          "name": "stdout"
        }
      ]
    },
    {
      "cell_type": "code",
      "metadata": {
        "id": "u7PKCPI4JTZb",
        "colab_type": "code",
        "colab": {
          "base_uri": "https://localhost:8080/",
          "height": 168
        },
        "outputId": "1d2a3fb1-26f6-4c86-9a90-c4ecaa2b2724"
      },
      "source": [
        "# show datatypes of columns in dataset\n",
        "spark_df.dtypes"
      ],
      "execution_count": 24,
      "outputs": [
        {
          "output_type": "execute_result",
          "data": {
            "text/plain": [
              "[('longitude', 'double'),\n",
              " ('latitude', 'double'),\n",
              " ('housing_median_age', 'double'),\n",
              " ('total_rooms', 'double'),\n",
              " ('total_bedrooms', 'double'),\n",
              " ('population', 'double'),\n",
              " ('households', 'double'),\n",
              " ('median_income', 'double'),\n",
              " ('median_house_value', 'double')]"
            ]
          },
          "metadata": {
            "tags": []
          },
          "execution_count": 24
        }
      ]
    },
    {
      "cell_type": "code",
      "metadata": {
        "id": "t2XLeVvsHaF2",
        "colab_type": "code",
        "colab": {
          "base_uri": "https://localhost:8080/",
          "height": 168
        },
        "outputId": "1204fa1d-ea80-43ad-cf92-0b807601a364"
      },
      "source": [
        "# display column names\n",
        "spark_df.columns"
      ],
      "execution_count": 25,
      "outputs": [
        {
          "output_type": "execute_result",
          "data": {
            "text/plain": [
              "['longitude',\n",
              " 'latitude',\n",
              " 'housing_median_age',\n",
              " 'total_rooms',\n",
              " 'total_bedrooms',\n",
              " 'population',\n",
              " 'households',\n",
              " 'median_income',\n",
              " 'median_house_value']"
            ]
          },
          "metadata": {
            "tags": []
          },
          "execution_count": 25
        }
      ]
    },
    {
      "cell_type": "code",
      "metadata": {
        "id": "agGTsByJHow5",
        "colab_type": "code",
        "colab": {
          "base_uri": "https://localhost:8080/",
          "height": 34
        },
        "outputId": "335d17ad-aaed-40c6-8b25-d8215ace3677"
      },
      "source": [
        "# count the number od rows in our dataset\n",
        "spark_df.count()"
      ],
      "execution_count": 26,
      "outputs": [
        {
          "output_type": "execute_result",
          "data": {
            "text/plain": [
              "17000"
            ]
          },
          "metadata": {
            "tags": []
          },
          "execution_count": 26
        }
      ]
    },
    {
      "cell_type": "code",
      "metadata": {
        "id": "LdxLj1Q7Hzyo",
        "colab_type": "code",
        "colab": {
          "base_uri": "https://localhost:8080/",
          "height": 185
        },
        "outputId": "eedc6049-c454-4c83-e149-fd855060fdb3"
      },
      "source": [
        "# describe specific columns\n",
        "spark_df.describe('total_rooms').show()"
      ],
      "execution_count": 27,
      "outputs": [
        {
          "output_type": "stream",
          "text": [
            "+-------+-----------------+\n",
            "|summary|      total_rooms|\n",
            "+-------+-----------------+\n",
            "|  count|            17000|\n",
            "|   mean|2643.664411764706|\n",
            "| stddev|2179.947071452777|\n",
            "|    min|              2.0|\n",
            "|    max|          37937.0|\n",
            "+-------+-----------------+\n",
            "\n"
          ],
          "name": "stdout"
        }
      ]
    },
    {
      "cell_type": "code",
      "metadata": {
        "id": "0vzzGifZIXSG",
        "colab_type": "code",
        "colab": {
          "base_uri": "https://localhost:8080/",
          "height": 168
        },
        "outputId": "36be35ef-45c3-48b4-d0e7-076b47005598"
      },
      "source": [
        "# rename columns\n",
        "spark_df = spark_df.withColumnRenamed('median_house_value', 'median_house_value_target')\n",
        "spark_df.columns"
      ],
      "execution_count": 29,
      "outputs": [
        {
          "output_type": "execute_result",
          "data": {
            "text/plain": [
              "['longitude',\n",
              " 'latitude',\n",
              " 'housing_median_age',\n",
              " 'total_rooms',\n",
              " 'total_bedrooms',\n",
              " 'population',\n",
              " 'households',\n",
              " 'median_income',\n",
              " 'median_house_value_target']"
            ]
          },
          "metadata": {
            "tags": []
          },
          "execution_count": 29
        }
      ]
    },
    {
      "cell_type": "code",
      "metadata": {
        "id": "4sWKzeoAI8A7",
        "colab_type": "code",
        "colab": {
          "base_uri": "https://localhost:8080/",
          "height": 202
        },
        "outputId": "8945bed4-74df-4f8a-92c8-6fe0c52a38f7"
      },
      "source": [
        "# select multiple columns\n",
        "spark_df.select('longitude', 'latitude', 'median_income', 'median_house_value_target').show(5)"
      ],
      "execution_count": 31,
      "outputs": [
        {
          "output_type": "stream",
          "text": [
            "+---------+--------+-------------+-------------------------+\n",
            "|longitude|latitude|median_income|median_house_value_target|\n",
            "+---------+--------+-------------+-------------------------+\n",
            "|  -114.31|   34.19|       1.4936|                  66900.0|\n",
            "|  -114.47|    34.4|         1.82|                  80100.0|\n",
            "|  -114.56|   33.69|       1.6509|                  85700.0|\n",
            "|  -114.57|   33.64|       3.1917|                  73400.0|\n",
            "|  -114.57|   33.57|        1.925|                  65500.0|\n",
            "+---------+--------+-------------+-------------------------+\n",
            "only showing top 5 rows\n",
            "\n"
          ],
          "name": "stdout"
        }
      ]
    },
    {
      "cell_type": "code",
      "metadata": {
        "id": "LvD1dyU1J-jm",
        "colab_type": "code",
        "colab": {
          "base_uri": "https://localhost:8080/",
          "height": 202
        },
        "outputId": "1ab5fd0e-fbf0-4a52-f4d2-d41e69a2faf9"
      },
      "source": [
        "# drop columns\n",
        "spark_df_target = spark_df.select('median_house_value_target')\n",
        "spark_df_target.show(5)"
      ],
      "execution_count": 37,
      "outputs": [
        {
          "output_type": "stream",
          "text": [
            "+-------------------------+\n",
            "|median_house_value_target|\n",
            "+-------------------------+\n",
            "|                  66900.0|\n",
            "|                  80100.0|\n",
            "|                  85700.0|\n",
            "|                  73400.0|\n",
            "|                  65500.0|\n",
            "+-------------------------+\n",
            "only showing top 5 rows\n",
            "\n"
          ],
          "name": "stdout"
        }
      ]
    },
    {
      "cell_type": "code",
      "metadata": {
        "id": "1p4Tv-BPKp8d",
        "colab_type": "code",
        "colab": {
          "base_uri": "https://localhost:8080/",
          "height": 202
        },
        "outputId": "74ef8d2f-8032-4a4e-f82f-15f45d0cd6bf"
      },
      "source": [
        "spark_df_features = spark_df.drop('median_house_value_target')\n",
        "spark_df_features.show(5)"
      ],
      "execution_count": 38,
      "outputs": [
        {
          "output_type": "stream",
          "text": [
            "+---------+--------+------------------+-----------+--------------+----------+----------+-------------+\n",
            "|longitude|latitude|housing_median_age|total_rooms|total_bedrooms|population|households|median_income|\n",
            "+---------+--------+------------------+-----------+--------------+----------+----------+-------------+\n",
            "|  -114.31|   34.19|              15.0|     5612.0|        1283.0|    1015.0|     472.0|       1.4936|\n",
            "|  -114.47|    34.4|              19.0|     7650.0|        1901.0|    1129.0|     463.0|         1.82|\n",
            "|  -114.56|   33.69|              17.0|      720.0|         174.0|     333.0|     117.0|       1.6509|\n",
            "|  -114.57|   33.64|              14.0|     1501.0|         337.0|     515.0|     226.0|       3.1917|\n",
            "|  -114.57|   33.57|              20.0|     1454.0|         326.0|     624.0|     262.0|        1.925|\n",
            "+---------+--------+------------------+-----------+--------------+----------+----------+-------------+\n",
            "only showing top 5 rows\n",
            "\n"
          ],
          "name": "stdout"
        }
      ]
    },
    {
      "cell_type": "code",
      "metadata": {
        "id": "bAqgf-q9LQAH",
        "colab_type": "code",
        "colab": {
          "base_uri": "https://localhost:8080/",
          "height": 454
        },
        "outputId": "0d100927-3ab3-475d-93a7-786652d3f622"
      },
      "source": [
        "# perform filtering \n",
        "spark_df_features.filter(spark_df_features.housing_median_age == \"20.0\").show()"
      ],
      "execution_count": 39,
      "outputs": [
        {
          "output_type": "stream",
          "text": [
            "+---------+--------+------------------+-----------+--------------+----------+----------+-------------+\n",
            "|longitude|latitude|housing_median_age|total_rooms|total_bedrooms|population|households|median_income|\n",
            "+---------+--------+------------------+-----------+--------------+----------+----------+-------------+\n",
            "|  -114.57|   33.57|              20.0|     1454.0|         326.0|     624.0|     262.0|        1.925|\n",
            "|  -114.68|   33.49|              20.0|     1491.0|         360.0|    1135.0|     303.0|       1.6395|\n",
            "|  -114.94|   34.55|              20.0|      350.0|          95.0|     119.0|      58.0|        1.625|\n",
            "|  -115.51|   32.99|              20.0|     1402.0|         287.0|    1104.0|     317.0|       1.9088|\n",
            "|  -115.56|   32.79|              20.0|     2372.0|         835.0|    2283.0|     767.0|       1.1707|\n",
            "|  -115.57|   32.78|              20.0|     1534.0|         235.0|     871.0|     222.0|       6.2715|\n",
            "|  -115.59|   32.85|              20.0|     1608.0|         274.0|     862.0|     248.0|        4.875|\n",
            "|  -115.62|   33.04|              20.0|     1121.0|         244.0|     766.0|     230.0|       2.2969|\n",
            "|  -115.84|   33.49|              20.0|     1660.0|         379.0|     637.0|     250.0|       2.0347|\n",
            "|  -116.01|   33.41|              20.0|     1996.0|         515.0|     659.0|     295.0|       2.8684|\n",
            "|  -116.11|   33.64|              20.0|     1273.0|         354.0|    1548.0|     355.0|       2.0871|\n",
            "|  -116.31|   34.13|              20.0|     2352.0|         556.0|    1217.0|     481.0|       1.6063|\n",
            "|   -116.5|   33.69|              20.0|     4810.0|        1074.0|    1304.0|     740.0|         2.25|\n",
            "|  -116.57|    34.0|              20.0|      260.0|          67.0|      69.0|      50.0|       3.5208|\n",
            "|  -116.84|   32.92|              20.0|     1066.0|         219.0|     536.0|     173.0|       3.1607|\n",
            "|  -116.88|   33.74|              20.0|     3111.0|         623.0|    1000.0|     508.0|       1.5982|\n",
            "|   -116.9|   34.52|              20.0|     3481.0|         840.0|    1694.0|     587.0|          1.4|\n",
            "|  -116.94|    34.4|              20.0|     6541.0|        1401.0|    2631.0|     980.0|       2.1339|\n",
            "|  -116.95|   33.74|              20.0|     2233.0|         431.0|    1024.0|     399.0|       2.4554|\n",
            "|  -116.95|   32.78|              20.0|     3425.0|         448.0|    1489.0|     443.0|       6.2552|\n",
            "+---------+--------+------------------+-----------+--------------+----------+----------+-------------+\n",
            "only showing top 20 rows\n",
            "\n"
          ],
          "name": "stdout"
        }
      ]
    },
    {
      "cell_type": "code",
      "metadata": {
        "id": "wsUTT8XrLsN1",
        "colab_type": "code",
        "colab": {
          "base_uri": "https://localhost:8080/",
          "height": 34
        },
        "outputId": "9176edb6-aca7-45d1-adcb-a9553f414478"
      },
      "source": [
        "# perform filtering\n",
        "spark_df_features[spark_df_features.population < \"1000.0\"].count()"
      ],
      "execution_count": 40,
      "outputs": [
        {
          "output_type": "execute_result",
          "data": {
            "text/plain": [
              "6689"
            ]
          },
          "metadata": {
            "tags": []
          },
          "execution_count": 40
        }
      ]
    },
    {
      "cell_type": "code",
      "metadata": {
        "id": "GIX_hw3iL_9g",
        "colab_type": "code",
        "colab": {
          "base_uri": "https://localhost:8080/",
          "height": 454
        },
        "outputId": "331256be-01ea-460e-d3c9-3b9e9bd6c7ea"
      },
      "source": [
        "# perform filtering\n",
        "spark_df_features.filter((spark_df_features.total_rooms <= \"300.0\") & (spark_df_features.total_bedrooms <= \"300.0\")).show()"
      ],
      "execution_count": 42,
      "outputs": [
        {
          "output_type": "stream",
          "text": [
            "+---------+--------+------------------+-----------+--------------+----------+----------+-------------+\n",
            "|longitude|latitude|housing_median_age|total_rooms|total_bedrooms|population|households|median_income|\n",
            "+---------+--------+------------------+-----------+--------------+----------+----------+-------------+\n",
            "|  -114.65|   32.79|              21.0|       44.0|          33.0|      64.0|      27.0|       0.8571|\n",
            "|  -114.67|   33.92|              17.0|       97.0|          24.0|      29.0|      15.0|       1.2656|\n",
            "|   -115.8|   33.26|               2.0|       96.0|          18.0|      30.0|      16.0|       5.3374|\n",
            "|  -115.88|   32.93|              15.0|      208.0|          49.0|      51.0|      20.0|       4.0208|\n",
            "|  -115.94|   33.38|               5.0|      186.0|          43.0|      41.0|      21.0|          2.7|\n",
            "|  -115.95|   33.28|              12.0|       99.0|          25.0|      37.0|      17.0|       1.8958|\n",
            "|  -115.98|   33.32|               8.0|      240.0|          46.0|      63.0|      24.0|       1.4688|\n",
            "|   -116.0|   33.19|              16.0|      245.0|          57.0|      81.0|      33.0|       1.2639|\n",
            "|  -116.05|   33.33|              17.0|      290.0|          94.0|     135.0|      57.0|       1.7292|\n",
            "|  -116.15|   33.69|              22.0|      197.0|          54.0|     331.0|      70.0|       2.9286|\n",
            "|  -116.18|   33.69|              17.0|       89.0|          19.0|      79.0|      21.0|        2.375|\n",
            "|  -116.25|   33.75|              33.0|      278.0|          91.0|     375.0|      81.0|        2.025|\n",
            "|  -116.42|   33.51|              26.0|      186.0|          48.0|     102.0|      39.0|       2.5625|\n",
            "|  -116.57|    34.0|              20.0|      260.0|          67.0|      69.0|      50.0|       3.5208|\n",
            "|  -116.76|   34.14|               4.0|       42.0|          10.0|       9.0|       3.0|        0.536|\n",
            "|  -116.97|   32.83|              23.0|      149.0|          32.0|     101.0|      34.0|       2.6458|\n",
            "|  -117.02|   32.64|               5.0|      260.0|          41.0|     157.0|      42.0|       6.5151|\n",
            "|  -117.03|   33.89|               6.0|       78.0|          11.0|      27.0|      10.0|        3.125|\n",
            "|  -117.08|   34.08|              34.0|       45.0|          11.0|      39.0|      14.0|       3.0625|\n",
            "|  -117.08|   32.59|              30.0|      144.0|          52.0|     220.0|      48.0|       2.3929|\n",
            "+---------+--------+------------------+-----------+--------------+----------+----------+-------------+\n",
            "only showing top 20 rows\n",
            "\n"
          ],
          "name": "stdout"
        }
      ]
    },
    {
      "cell_type": "code",
      "metadata": {
        "id": "stSiHx7ZMoca",
        "colab_type": "code",
        "colab": {
          "base_uri": "https://localhost:8080/",
          "height": 202
        },
        "outputId": "6de6d105-3352-42f8-d0c9-3d0e0ff47673"
      },
      "source": [
        "# sorting dataset\n",
        "spark_df_features.orderBy(spark_df_features.population).show(5)"
      ],
      "execution_count": 43,
      "outputs": [
        {
          "output_type": "stream",
          "text": [
            "+---------+--------+------------------+-----------+--------------+----------+----------+-------------+\n",
            "|longitude|latitude|housing_median_age|total_rooms|total_bedrooms|population|households|median_income|\n",
            "+---------+--------+------------------+-----------+--------------+----------+----------+-------------+\n",
            "|  -118.44|   34.04|              16.0|       18.0|           6.0|       3.0|       4.0|        0.536|\n",
            "|  -117.79|   35.21|               4.0|        2.0|           2.0|       6.0|       2.0|        2.375|\n",
            "|  -117.76|   35.22|               4.0|       18.0|           3.0|       8.0|       6.0|        1.625|\n",
            "|  -122.06|   37.39|              26.0|       18.0|           4.0|       8.0|       4.0|         3.75|\n",
            "|  -120.85|   37.75|              26.0|       28.0|           4.0|       9.0|       5.0|        1.625|\n",
            "+---------+--------+------------------+-----------+--------------+----------+----------+-------------+\n",
            "only showing top 5 rows\n",
            "\n"
          ],
          "name": "stdout"
        }
      ]
    },
    {
      "cell_type": "code",
      "metadata": {
        "id": "1HvEn2YDNLgb",
        "colab_type": "code",
        "colab": {
          "base_uri": "https://localhost:8080/",
          "height": 202
        },
        "outputId": "6120ac10-18fd-4653-e8e0-b331314ff142"
      },
      "source": [
        "# perform grouping\n",
        "spark_df_features.groupby(\"housing_median_age\").count().show(5)"
      ],
      "execution_count": 44,
      "outputs": [
        {
          "output_type": "stream",
          "text": [
            "+------------------+-----+\n",
            "|housing_median_age|count|\n",
            "+------------------+-----+\n",
            "|               8.0|  178|\n",
            "|               7.0|  151|\n",
            "|              49.0|  111|\n",
            "|              29.0|  374|\n",
            "|              47.0|  175|\n",
            "+------------------+-----+\n",
            "only showing top 5 rows\n",
            "\n"
          ],
          "name": "stdout"
        }
      ]
    },
    {
      "cell_type": "code",
      "metadata": {
        "id": "EdSZYGiFOanW",
        "colab_type": "code",
        "colab": {
          "base_uri": "https://localhost:8080/",
          "height": 185
        },
        "outputId": "1eed84fd-762a-4d31-a750-a245ea666e20"
      },
      "source": [
        "# filling null values in dataset\n",
        "spark_df_features.fillna(0)\n",
        "spark_df_features.printSchema()"
      ],
      "execution_count": 45,
      "outputs": [
        {
          "output_type": "stream",
          "text": [
            "root\n",
            " |-- longitude: double (nullable = true)\n",
            " |-- latitude: double (nullable = true)\n",
            " |-- housing_median_age: double (nullable = true)\n",
            " |-- total_rooms: double (nullable = true)\n",
            " |-- total_bedrooms: double (nullable = true)\n",
            " |-- population: double (nullable = true)\n",
            " |-- households: double (nullable = true)\n",
            " |-- median_income: double (nullable = true)\n",
            "\n"
          ],
          "name": "stdout"
        }
      ]
    },
    {
      "cell_type": "code",
      "metadata": {
        "id": "xVQKiDzoOx1S",
        "colab_type": "code",
        "colab": {
          "base_uri": "https://localhost:8080/",
          "height": 202
        },
        "outputId": "01f1dbdc-810c-46d8-ff79-ba938083de2f"
      },
      "source": [
        "# perform aggregation\n",
        "spark_df_features.groupby(['total_rooms', 'total_bedrooms']).agg({'population': 'mean', 'households': 'min'}).show(5)"
      ],
      "execution_count": 48,
      "outputs": [
        {
          "output_type": "stream",
          "text": [
            "+-----------+--------------+---------------+---------------+\n",
            "|total_rooms|total_bedrooms|min(households)|avg(population)|\n",
            "+-----------+--------------+---------------+---------------+\n",
            "|     5799.0|        1527.0|          262.0|          713.0|\n",
            "|     1262.0|         294.0|          275.0|         5176.0|\n",
            "|     1796.0|         428.0|          424.0|          918.0|\n",
            "|     3999.0|        1182.0|         1130.0|         2051.0|\n",
            "|     1417.0|         373.0|          348.0|          814.0|\n",
            "+-----------+--------------+---------------+---------------+\n",
            "only showing top 5 rows\n",
            "\n"
          ],
          "name": "stdout"
        }
      ]
    },
    {
      "cell_type": "code",
      "metadata": {
        "id": "gF2fUIA9N1Py",
        "colab_type": "code",
        "colab": {
          "base_uri": "https://localhost:8080/",
          "height": 202
        },
        "outputId": "8638ee9d-eaa5-4dd9-b575-4fdd4ef4a956"
      },
      "source": [
        "# adding a new column\n",
        "spark_df_features.withColumn('1/total_rooms', 1 / spark_df_features.total_rooms).show(5)"
      ],
      "execution_count": 50,
      "outputs": [
        {
          "output_type": "stream",
          "text": [
            "+---------+--------+------------------+-----------+--------------+----------+----------+-------------+--------------------+\n",
            "|longitude|latitude|housing_median_age|total_rooms|total_bedrooms|population|households|median_income|       1/total_rooms|\n",
            "+---------+--------+------------------+-----------+--------------+----------+----------+-------------+--------------------+\n",
            "|  -114.31|   34.19|              15.0|     5612.0|        1283.0|    1015.0|     472.0|       1.4936|1.781895937277263E-4|\n",
            "|  -114.47|    34.4|              19.0|     7650.0|        1901.0|    1129.0|     463.0|         1.82|1.307189542483660...|\n",
            "|  -114.56|   33.69|              17.0|      720.0|         174.0|     333.0|     117.0|       1.6509|0.001388888888888889|\n",
            "|  -114.57|   33.64|              14.0|     1501.0|         337.0|     515.0|     226.0|       3.1917|6.662225183211193E-4|\n",
            "|  -114.57|   33.57|              20.0|     1454.0|         326.0|     624.0|     262.0|        1.925| 6.87757909215956E-4|\n",
            "+---------+--------+------------------+-----------+--------------+----------+----------+-------------+--------------------+\n",
            "only showing top 5 rows\n",
            "\n"
          ],
          "name": "stdout"
        }
      ]
    },
    {
      "cell_type": "code",
      "metadata": {
        "id": "6tcvBvrQQuoD",
        "colab_type": "code",
        "colab": {
          "base_uri": "https://localhost:8080/",
          "height": 202
        },
        "outputId": "848aa866-b0b3-47f9-e1a5-d02c1acacd9e"
      },
      "source": [
        "# using sql queries\n",
        "spark_df_features.createOrReplaceTempView('sql_df')\n",
        "spark.sql('select population from sql_df').show(5)"
      ],
      "execution_count": 54,
      "outputs": [
        {
          "output_type": "stream",
          "text": [
            "+----------+\n",
            "|population|\n",
            "+----------+\n",
            "|    1015.0|\n",
            "|    1129.0|\n",
            "|     333.0|\n",
            "|     515.0|\n",
            "|     624.0|\n",
            "+----------+\n",
            "only showing top 5 rows\n",
            "\n"
          ],
          "name": "stdout"
        }
      ]
    },
    {
      "cell_type": "code",
      "metadata": {
        "id": "nZ_H7fKQRdgw",
        "colab_type": "code",
        "colab": {
          "base_uri": "https://localhost:8080/",
          "height": 118
        },
        "outputId": "5f4b19a6-232c-434d-d4c0-3433d5a7a6b4"
      },
      "source": [
        "# using sql queries\n",
        "spark.sql('select max(housing_median_age) from sql_df').show()"
      ],
      "execution_count": 55,
      "outputs": [
        {
          "output_type": "stream",
          "text": [
            "+-----------------------+\n",
            "|max(housing_median_age)|\n",
            "+-----------------------+\n",
            "|                   52.0|\n",
            "+-----------------------+\n",
            "\n"
          ],
          "name": "stdout"
        }
      ]
    },
    {
      "cell_type": "code",
      "metadata": {
        "id": "smiBuAPXSRb7",
        "colab_type": "code",
        "colab": {}
      },
      "source": [
        ""
      ],
      "execution_count": 0,
      "outputs": []
    }
  ]
}