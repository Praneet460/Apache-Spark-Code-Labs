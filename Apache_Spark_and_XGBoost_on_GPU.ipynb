{
  "nbformat": 4,
  "nbformat_minor": 0,
  "metadata": {
    "colab": {
      "name": "Apache Spark and XGBoost on GPU.ipynb",
      "provenance": [],
      "collapsed_sections": []
    },
    "kernelspec": {
      "name": "python3",
      "display_name": "Python 3"
    },
    "accelerator": "GPU"
  },
  "cells": [
    {
      "cell_type": "markdown",
      "metadata": {
        "id": "anSgAfm6YrfA",
        "colab_type": "text"
      },
      "source": [
        "### Installing"
      ]
    },
    {
      "cell_type": "code",
      "metadata": {
        "id": "NokdzxbrYugN",
        "colab_type": "code",
        "outputId": "24539219-64b1-4adb-f627-331369091e95",
        "colab": {
          "base_uri": "https://localhost:8080/",
          "height": 302
        }
      },
      "source": [
        "# use GPU\n",
        "!nvidia-smi"
      ],
      "execution_count": 1,
      "outputs": [
        {
          "output_type": "stream",
          "text": [
            "Wed Mar 25 21:57:11 2020       \n",
            "+-----------------------------------------------------------------------------+\n",
            "| NVIDIA-SMI 440.64.00    Driver Version: 418.67       CUDA Version: 10.1     |\n",
            "|-------------------------------+----------------------+----------------------+\n",
            "| GPU  Name        Persistence-M| Bus-Id        Disp.A | Volatile Uncorr. ECC |\n",
            "| Fan  Temp  Perf  Pwr:Usage/Cap|         Memory-Usage | GPU-Util  Compute M. |\n",
            "|===============================+======================+======================|\n",
            "|   0  Tesla P4            Off  | 00000000:00:04.0 Off |                    0 |\n",
            "| N/A   30C    P8     6W /  75W |      0MiB /  7611MiB |      0%      Default |\n",
            "+-------------------------------+----------------------+----------------------+\n",
            "                                                                               \n",
            "+-----------------------------------------------------------------------------+\n",
            "| Processes:                                                       GPU Memory |\n",
            "|  GPU       PID   Type   Process name                             Usage      |\n",
            "|=============================================================================|\n",
            "|  No running processes found                                                 |\n",
            "+-----------------------------------------------------------------------------+\n"
          ],
          "name": "stdout"
        }
      ]
    },
    {
      "cell_type": "code",
      "metadata": {
        "id": "BYqMtWsqY7O1",
        "colab_type": "code",
        "colab": {}
      },
      "source": [
        "!apt-get install openjdk-8-jdk-headless -qq > /dev/null  # install jdk\n",
        "!wget -q https://downloads.apache.org/spark/spark-2.4.5/spark-2.4.5-bin-hadoop2.7.tgz # install spark package from apache website"
      ],
      "execution_count": 0,
      "outputs": []
    },
    {
      "cell_type": "code",
      "metadata": {
        "id": "dGdZOA6VZnSf",
        "colab_type": "code",
        "colab": {}
      },
      "source": [
        "!tar xf spark-2.4.5-bin-hadoop2.7.tgz # unzip the downloaded spark package"
      ],
      "execution_count": 0,
      "outputs": []
    },
    {
      "cell_type": "code",
      "metadata": {
        "id": "AvqTNqMyZ_ny",
        "colab_type": "code",
        "colab": {}
      },
      "source": [
        "!pip install -q findspark # findspark will find the spark and initialize spark environment"
      ],
      "execution_count": 0,
      "outputs": []
    },
    {
      "cell_type": "code",
      "metadata": {
        "id": "j5D6WvrOgtNM",
        "colab_type": "code",
        "colab": {
          "base_uri": "https://localhost:8080/",
          "height": 50
        },
        "outputId": "c85d16fc-f4ae-4473-c4e6-295aa13268db"
      },
      "source": [
        "!pip install pyspark"
      ],
      "execution_count": 3,
      "outputs": [
        {
          "output_type": "stream",
          "text": [
            "Requirement already satisfied: pyspark in /usr/local/lib/python3.6/dist-packages (2.4.5)\n",
            "Requirement already satisfied: py4j==0.10.7 in /usr/local/lib/python3.6/dist-packages (from pyspark) (0.10.7)\n"
          ],
          "name": "stdout"
        }
      ]
    },
    {
      "cell_type": "code",
      "metadata": {
        "id": "G7FXyLzhaQWy",
        "colab_type": "code",
        "outputId": "08926c3a-517e-445f-c8c2-5e0debcd86bf",
        "colab": {
          "base_uri": "https://localhost:8080/",
          "height": 202
        }
      },
      "source": [
        "# download XGBoost components\n",
        "!wget https://repo1.maven.org/maven2/ai/rapids/cudf/0.9.2/cudf-0.9.2-cuda10-1.jar"
      ],
      "execution_count": 18,
      "outputs": [
        {
          "output_type": "stream",
          "text": [
            "--2020-03-25 21:03:30--  https://repo1.maven.org/maven2/ai/rapids/cudf/0.9.2/cudf-0.9.2-cuda10-1.jar\n",
            "Resolving repo1.maven.org (repo1.maven.org)... 151.101.196.209\n",
            "Connecting to repo1.maven.org (repo1.maven.org)|151.101.196.209|:443... connected.\n",
            "HTTP request sent, awaiting response... 200 OK\n",
            "Length: 64759406 (62M) [application/java-archive]\n",
            "Saving to: ‘cudf-0.9.2-cuda10-1.jar.1’\n",
            "\n",
            "\r          cudf-0.9.   0%[                    ]       0  --.-KB/s               \r         cudf-0.9.2  78%[==============>     ]  48.21M   241MB/s               \rcudf-0.9.2-cuda10-1 100%[===================>]  61.76M   254MB/s    in 0.2s    \n",
            "\n",
            "2020-03-25 21:03:30 (254 MB/s) - ‘cudf-0.9.2-cuda10-1.jar.1’ saved [64759406/64759406]\n",
            "\n"
          ],
          "name": "stdout"
        }
      ]
    },
    {
      "cell_type": "code",
      "metadata": {
        "id": "1buq2RIwav9V",
        "colab_type": "code",
        "outputId": "dd8c54a9-65fe-4b4c-e41d-f4200efcea16",
        "colab": {
          "base_uri": "https://localhost:8080/",
          "height": 202
        }
      },
      "source": [
        "!wget https://repo1.maven.org/maven2/ai/rapids/xgboost4j_2.x/1.0.0-Beta5/xgboost4j_2.x-1.0.0-Beta5.jar"
      ],
      "execution_count": 19,
      "outputs": [
        {
          "output_type": "stream",
          "text": [
            "--2020-03-25 21:03:33--  https://repo1.maven.org/maven2/ai/rapids/xgboost4j_2.x/1.0.0-Beta5/xgboost4j_2.x-1.0.0-Beta5.jar\n",
            "Resolving repo1.maven.org (repo1.maven.org)... 151.101.196.209\n",
            "Connecting to repo1.maven.org (repo1.maven.org)|151.101.196.209|:443... connected.\n",
            "HTTP request sent, awaiting response... 200 OK\n",
            "Length: 349225621 (333M) [application/java-archive]\n",
            "Saving to: ‘xgboost4j_2.x-1.0.0-Beta5.jar.1’\n",
            "\n",
            "xgboost4j_2.x-1.0.0 100%[===================>] 333.05M   262MB/s    in 1.3s    \n",
            "\n",
            "2020-03-25 21:03:34 (262 MB/s) - ‘xgboost4j_2.x-1.0.0-Beta5.jar.1’ saved [349225621/349225621]\n",
            "\n"
          ],
          "name": "stdout"
        }
      ]
    },
    {
      "cell_type": "code",
      "metadata": {
        "id": "55zmHtnmbLag",
        "colab_type": "code",
        "outputId": "05bb136f-c0fa-49d0-e552-978036980abe",
        "colab": {
          "base_uri": "https://localhost:8080/",
          "height": 202
        }
      },
      "source": [
        "!wget https://repo1.maven.org/maven2/ai/rapids/xgboost4j-spark_2.x/1.0.0-Beta5/xgboost4j-spark_2.x-1.0.0-Beta5.jar"
      ],
      "execution_count": 20,
      "outputs": [
        {
          "output_type": "stream",
          "text": [
            "--2020-03-25 21:03:36--  https://repo1.maven.org/maven2/ai/rapids/xgboost4j-spark_2.x/1.0.0-Beta5/xgboost4j-spark_2.x-1.0.0-Beta5.jar\n",
            "Resolving repo1.maven.org (repo1.maven.org)... 151.101.196.209\n",
            "Connecting to repo1.maven.org (repo1.maven.org)|151.101.196.209|:443... connected.\n",
            "HTTP request sent, awaiting response... 200 OK\n",
            "Length: 4829218 (4.6M) [application/java-archive]\n",
            "Saving to: ‘xgboost4j-spark_2.x-1.0.0-Beta5.jar.1’\n",
            "\n",
            "\r          xgboost4j   0%[                    ]       0  --.-KB/s               \rxgboost4j-spark_2.x 100%[===================>]   4.61M  --.-KB/s    in 0.02s   \n",
            "\n",
            "2020-03-25 21:03:36 (188 MB/s) - ‘xgboost4j-spark_2.x-1.0.0-Beta5.jar.1’ saved [4829218/4829218]\n",
            "\n"
          ],
          "name": "stdout"
        }
      ]
    },
    {
      "cell_type": "code",
      "metadata": {
        "id": "6y1vb5obbemX",
        "colab_type": "code",
        "outputId": "db8ac625-648e-48ac-e3c1-641da46c93e4",
        "colab": {
          "base_uri": "https://localhost:8080/",
          "height": 84
        }
      },
      "source": [
        "!ls"
      ],
      "execution_count": 4,
      "outputs": [
        {
          "output_type": "stream",
          "text": [
            "covtype_test.parquet\t spark-2.4.5-bin-hadoop2.7\n",
            "covtype_train.parquet\t spark-2.4.5-bin-hadoop2.7.tgz\n",
            "cudf-0.9.2-cuda10-1.jar  xgboost4j_2.x-1.0.0-Beta5.jar\n",
            "sample_data\t\t xgboost4j-spark_2.x-1.0.0-Beta5.jar\n"
          ],
          "name": "stdout"
        }
      ]
    },
    {
      "cell_type": "code",
      "metadata": {
        "id": "JHOUbtVQbiCy",
        "colab_type": "code",
        "outputId": "6968adeb-b089-4a3f-c5c4-016978d5f2df",
        "colab": {
          "base_uri": "https://localhost:8080/",
          "height": 34
        }
      },
      "source": [
        "!pwd"
      ],
      "execution_count": 5,
      "outputs": [
        {
          "output_type": "stream",
          "text": [
            "/content\n"
          ],
          "name": "stdout"
        }
      ]
    },
    {
      "cell_type": "markdown",
      "metadata": {
        "id": "vRmG9mMubxv1",
        "colab_type": "text"
      },
      "source": [
        "### Setting up"
      ]
    },
    {
      "cell_type": "code",
      "metadata": {
        "id": "vPehyR5Gbv2d",
        "colab_type": "code",
        "colab": {}
      },
      "source": [
        "import os\n",
        "os.environ[\"JAVA_HOME\"] = \"/usr/lib/jvm/java-8-openjdk-amd64\"\n",
        "os.environ[\"SPARK_HOME\"] = \"/content/spark-2.4.5-bin-hadoop2.7\""
      ],
      "execution_count": 0,
      "outputs": []
    },
    {
      "cell_type": "code",
      "metadata": {
        "id": "HhM9eVJZcL55",
        "colab_type": "code",
        "colab": {}
      },
      "source": [
        "# There is a change in python/pyspark/java_gateway.py , which requires PYSPARK_SUBMIT_ARGS includes pyspark-shell if a PYSPARK_SUBMIT_ARGS variable is set by a user.\n",
        "# os.environ['PYSPARK_SUBMIT_ARGS'] = '--master local[2] pyspark-shell'\n",
        "os.environ['PYSPARK_SUBMIT_ARGS'] = '--jars /content/cudf-0.9.2-cuda10-1.jar,/content/xgboost4j_2.x-1.0.0-Beta5.jar,/content/xgboost4j-spark_2.x-1.0.0-Beta5.jar, pyspark-shell'"
      ],
      "execution_count": 0,
      "outputs": []
    },
    {
      "cell_type": "code",
      "metadata": {
        "id": "eXoBLpXZdCpM",
        "colab_type": "code",
        "colab": {}
      },
      "source": [
        "import findspark\n",
        "findspark.init()\n",
        "from pyspark.sql import SparkSession\n",
        "spark = SparkSession.builder.master(\"local[*]\").getOrCreate()\n",
        "spark.conf.set(\"spark.executor.memory\", \"4g\")\n",
        "spark.conf.set(\"spark.driver.memory\", \"4g\")"
      ],
      "execution_count": 0,
      "outputs": []
    },
    {
      "cell_type": "code",
      "metadata": {
        "id": "3mXl-alNeL2k",
        "colab_type": "code",
        "colab": {}
      },
      "source": [
        "spark.sparkContext.addPyFile('/content/xgboost4j-spark_2.x-1.0.0-Beta5.jar')"
      ],
      "execution_count": 0,
      "outputs": []
    },
    {
      "cell_type": "code",
      "metadata": {
        "id": "FtlRPQD1ilrq",
        "colab_type": "code",
        "colab": {}
      },
      "source": [
        "from ml.dmlc.xgboost4j.scala.spark import XGBoostClassificationModel, XGBoostClassifier\n",
        "from ml.dmlc.xgboost4j.scala.spark.rapids import GpuDataReader\n",
        "from pyspark.ml.evaluation import MulticlassClassificationEvaluator\n",
        "import numpy as np\n",
        "import pandas as pd"
      ],
      "execution_count": 0,
      "outputs": []
    },
    {
      "cell_type": "markdown",
      "metadata": {
        "id": "GHyeEjJ3j2_h",
        "colab_type": "text"
      },
      "source": [
        "### Load the dataset"
      ]
    },
    {
      "cell_type": "code",
      "metadata": {
        "id": "SnbgVOUqi5QJ",
        "colab_type": "code",
        "colab": {}
      },
      "source": [
        "from sklearn.datasets import fetch_openml\n",
        "covtype = fetch_openml(name='covertype', version=4)"
      ],
      "execution_count": 0,
      "outputs": []
    },
    {
      "cell_type": "code",
      "metadata": {
        "id": "xcXQb40FkOIw",
        "colab_type": "code",
        "colab": {
          "base_uri": "https://localhost:8080/",
          "height": 34
        },
        "outputId": "2b3b3444-a7d5-4ef4-f228-8fd978d524f0"
      },
      "source": [
        "covtype.data.shape"
      ],
      "execution_count": 12,
      "outputs": [
        {
          "output_type": "execute_result",
          "data": {
            "text/plain": [
              "(581012, 54)"
            ]
          },
          "metadata": {
            "tags": []
          },
          "execution_count": 12
        }
      ]
    },
    {
      "cell_type": "code",
      "metadata": {
        "id": "shr40M9ykapK",
        "colab_type": "code",
        "colab": {
          "base_uri": "https://localhost:8080/",
          "height": 34
        },
        "outputId": "39868bd5-c53c-4ae7-9087-2395e0266af9"
      },
      "source": [
        "np.unique(covtype.target) # unique target data"
      ],
      "execution_count": 13,
      "outputs": [
        {
          "output_type": "execute_result",
          "data": {
            "text/plain": [
              "array(['1', '2', '3', '4', '5', '6', '7'], dtype=object)"
            ]
          },
          "metadata": {
            "tags": []
          },
          "execution_count": 13
        }
      ]
    },
    {
      "cell_type": "markdown",
      "metadata": {
        "id": "CN_b9G6cnXAK",
        "colab_type": "text"
      },
      "source": [
        "### Data Transformation"
      ]
    },
    {
      "cell_type": "code",
      "metadata": {
        "id": "iup27ncqkdjp",
        "colab_type": "code",
        "colab": {
          "base_uri": "https://localhost:8080/",
          "height": 215
        },
        "outputId": "fa6e76c2-b585-4069-c63e-2a17cee2a1f5"
      },
      "source": [
        "# converting data into pandas dataframe\n",
        "column_names = covtype['feature_names'] + ['target']\n",
        "data = np.c_[covtype['data'], covtype['target']]\n",
        "\n",
        "covtype_df = pd.DataFrame(data=data, columns=column_names)\n",
        "covtype_df.head()"
      ],
      "execution_count": 14,
      "outputs": [
        {
          "output_type": "execute_result",
          "data": {
            "text/html": [
              "<div>\n",
              "<style scoped>\n",
              "    .dataframe tbody tr th:only-of-type {\n",
              "        vertical-align: middle;\n",
              "    }\n",
              "\n",
              "    .dataframe tbody tr th {\n",
              "        vertical-align: top;\n",
              "    }\n",
              "\n",
              "    .dataframe thead th {\n",
              "        text-align: right;\n",
              "    }\n",
              "</style>\n",
              "<table border=\"1\" class=\"dataframe\">\n",
              "  <thead>\n",
              "    <tr style=\"text-align: right;\">\n",
              "      <th></th>\n",
              "      <th>Elevation</th>\n",
              "      <th>Aspect</th>\n",
              "      <th>Slope</th>\n",
              "      <th>Horizontal_Distance_To_Hydrology</th>\n",
              "      <th>Vertical_Distance_To_Hydrology</th>\n",
              "      <th>Horizontal_Distance_To_Roadways</th>\n",
              "      <th>Hillshade_9am</th>\n",
              "      <th>Hillshade_Noon</th>\n",
              "      <th>Hillshade_3pm</th>\n",
              "      <th>Horizontal_Distance_To_Fire_Points</th>\n",
              "      <th>Wilderness_Area1</th>\n",
              "      <th>Wilderness_Area2</th>\n",
              "      <th>Wilderness_Area3</th>\n",
              "      <th>Wilderness_Area4</th>\n",
              "      <th>Soil_Type1</th>\n",
              "      <th>Soil_Type2</th>\n",
              "      <th>Soil_Type3</th>\n",
              "      <th>Soil_Type4</th>\n",
              "      <th>Soil_Type5</th>\n",
              "      <th>Soil_Type6</th>\n",
              "      <th>Soil_Type7</th>\n",
              "      <th>Soil_Type8</th>\n",
              "      <th>Soil_Type9</th>\n",
              "      <th>Soil_Type10</th>\n",
              "      <th>Soil_Type11</th>\n",
              "      <th>Soil_Type12</th>\n",
              "      <th>Soil_Type13</th>\n",
              "      <th>Soil_Type14</th>\n",
              "      <th>Soil_Type15</th>\n",
              "      <th>Soil_Type16</th>\n",
              "      <th>Soil_Type17</th>\n",
              "      <th>Soil_Type18</th>\n",
              "      <th>Soil_Type19</th>\n",
              "      <th>Soil_Type20</th>\n",
              "      <th>Soil_Type21</th>\n",
              "      <th>Soil_Type22</th>\n",
              "      <th>Soil_Type23</th>\n",
              "      <th>Soil_Type24</th>\n",
              "      <th>Soil_Type25</th>\n",
              "      <th>Soil_Type26</th>\n",
              "      <th>Soil_Type27</th>\n",
              "      <th>Soil_Type28</th>\n",
              "      <th>Soil_Type29</th>\n",
              "      <th>Soil_Type30</th>\n",
              "      <th>Soil_Type31</th>\n",
              "      <th>Soil_Type32</th>\n",
              "      <th>Soil_Type33</th>\n",
              "      <th>Soil_Type34</th>\n",
              "      <th>Soil_Type35</th>\n",
              "      <th>Soil_Type36</th>\n",
              "      <th>Soil_Type37</th>\n",
              "      <th>Soil_Type38</th>\n",
              "      <th>Soil_Type39</th>\n",
              "      <th>Soil_Type40</th>\n",
              "      <th>target</th>\n",
              "    </tr>\n",
              "  </thead>\n",
              "  <tbody>\n",
              "    <tr>\n",
              "      <th>0</th>\n",
              "      <td>2596</td>\n",
              "      <td>51</td>\n",
              "      <td>3</td>\n",
              "      <td>258</td>\n",
              "      <td>0</td>\n",
              "      <td>510</td>\n",
              "      <td>221</td>\n",
              "      <td>232</td>\n",
              "      <td>148</td>\n",
              "      <td>6279</td>\n",
              "      <td>1</td>\n",
              "      <td>0</td>\n",
              "      <td>0</td>\n",
              "      <td>0</td>\n",
              "      <td>0</td>\n",
              "      <td>0</td>\n",
              "      <td>0</td>\n",
              "      <td>0</td>\n",
              "      <td>0</td>\n",
              "      <td>0</td>\n",
              "      <td>0</td>\n",
              "      <td>0</td>\n",
              "      <td>0</td>\n",
              "      <td>0</td>\n",
              "      <td>0</td>\n",
              "      <td>0</td>\n",
              "      <td>0</td>\n",
              "      <td>0</td>\n",
              "      <td>0</td>\n",
              "      <td>0</td>\n",
              "      <td>0</td>\n",
              "      <td>0</td>\n",
              "      <td>0</td>\n",
              "      <td>0</td>\n",
              "      <td>0</td>\n",
              "      <td>0</td>\n",
              "      <td>0</td>\n",
              "      <td>0</td>\n",
              "      <td>0</td>\n",
              "      <td>0</td>\n",
              "      <td>0</td>\n",
              "      <td>0</td>\n",
              "      <td>1</td>\n",
              "      <td>0</td>\n",
              "      <td>0</td>\n",
              "      <td>0</td>\n",
              "      <td>0</td>\n",
              "      <td>0</td>\n",
              "      <td>0</td>\n",
              "      <td>0</td>\n",
              "      <td>0</td>\n",
              "      <td>0</td>\n",
              "      <td>0</td>\n",
              "      <td>0</td>\n",
              "      <td>5</td>\n",
              "    </tr>\n",
              "    <tr>\n",
              "      <th>1</th>\n",
              "      <td>2590</td>\n",
              "      <td>56</td>\n",
              "      <td>2</td>\n",
              "      <td>212</td>\n",
              "      <td>-6</td>\n",
              "      <td>390</td>\n",
              "      <td>220</td>\n",
              "      <td>235</td>\n",
              "      <td>151</td>\n",
              "      <td>6225</td>\n",
              "      <td>1</td>\n",
              "      <td>0</td>\n",
              "      <td>0</td>\n",
              "      <td>0</td>\n",
              "      <td>0</td>\n",
              "      <td>0</td>\n",
              "      <td>0</td>\n",
              "      <td>0</td>\n",
              "      <td>0</td>\n",
              "      <td>0</td>\n",
              "      <td>0</td>\n",
              "      <td>0</td>\n",
              "      <td>0</td>\n",
              "      <td>0</td>\n",
              "      <td>0</td>\n",
              "      <td>0</td>\n",
              "      <td>0</td>\n",
              "      <td>0</td>\n",
              "      <td>0</td>\n",
              "      <td>0</td>\n",
              "      <td>0</td>\n",
              "      <td>0</td>\n",
              "      <td>0</td>\n",
              "      <td>0</td>\n",
              "      <td>0</td>\n",
              "      <td>0</td>\n",
              "      <td>0</td>\n",
              "      <td>0</td>\n",
              "      <td>0</td>\n",
              "      <td>0</td>\n",
              "      <td>0</td>\n",
              "      <td>0</td>\n",
              "      <td>1</td>\n",
              "      <td>0</td>\n",
              "      <td>0</td>\n",
              "      <td>0</td>\n",
              "      <td>0</td>\n",
              "      <td>0</td>\n",
              "      <td>0</td>\n",
              "      <td>0</td>\n",
              "      <td>0</td>\n",
              "      <td>0</td>\n",
              "      <td>0</td>\n",
              "      <td>0</td>\n",
              "      <td>5</td>\n",
              "    </tr>\n",
              "    <tr>\n",
              "      <th>2</th>\n",
              "      <td>2804</td>\n",
              "      <td>139</td>\n",
              "      <td>9</td>\n",
              "      <td>268</td>\n",
              "      <td>65</td>\n",
              "      <td>3180</td>\n",
              "      <td>234</td>\n",
              "      <td>238</td>\n",
              "      <td>135</td>\n",
              "      <td>6121</td>\n",
              "      <td>1</td>\n",
              "      <td>0</td>\n",
              "      <td>0</td>\n",
              "      <td>0</td>\n",
              "      <td>0</td>\n",
              "      <td>0</td>\n",
              "      <td>0</td>\n",
              "      <td>0</td>\n",
              "      <td>0</td>\n",
              "      <td>0</td>\n",
              "      <td>0</td>\n",
              "      <td>0</td>\n",
              "      <td>0</td>\n",
              "      <td>0</td>\n",
              "      <td>0</td>\n",
              "      <td>1</td>\n",
              "      <td>0</td>\n",
              "      <td>0</td>\n",
              "      <td>0</td>\n",
              "      <td>0</td>\n",
              "      <td>0</td>\n",
              "      <td>0</td>\n",
              "      <td>0</td>\n",
              "      <td>0</td>\n",
              "      <td>0</td>\n",
              "      <td>0</td>\n",
              "      <td>0</td>\n",
              "      <td>0</td>\n",
              "      <td>0</td>\n",
              "      <td>0</td>\n",
              "      <td>0</td>\n",
              "      <td>0</td>\n",
              "      <td>0</td>\n",
              "      <td>0</td>\n",
              "      <td>0</td>\n",
              "      <td>0</td>\n",
              "      <td>0</td>\n",
              "      <td>0</td>\n",
              "      <td>0</td>\n",
              "      <td>0</td>\n",
              "      <td>0</td>\n",
              "      <td>0</td>\n",
              "      <td>0</td>\n",
              "      <td>0</td>\n",
              "      <td>2</td>\n",
              "    </tr>\n",
              "    <tr>\n",
              "      <th>3</th>\n",
              "      <td>2785</td>\n",
              "      <td>155</td>\n",
              "      <td>18</td>\n",
              "      <td>242</td>\n",
              "      <td>118</td>\n",
              "      <td>3090</td>\n",
              "      <td>238</td>\n",
              "      <td>238</td>\n",
              "      <td>122</td>\n",
              "      <td>6211</td>\n",
              "      <td>1</td>\n",
              "      <td>0</td>\n",
              "      <td>0</td>\n",
              "      <td>0</td>\n",
              "      <td>0</td>\n",
              "      <td>0</td>\n",
              "      <td>0</td>\n",
              "      <td>0</td>\n",
              "      <td>0</td>\n",
              "      <td>0</td>\n",
              "      <td>0</td>\n",
              "      <td>0</td>\n",
              "      <td>0</td>\n",
              "      <td>0</td>\n",
              "      <td>0</td>\n",
              "      <td>0</td>\n",
              "      <td>0</td>\n",
              "      <td>0</td>\n",
              "      <td>0</td>\n",
              "      <td>0</td>\n",
              "      <td>0</td>\n",
              "      <td>0</td>\n",
              "      <td>0</td>\n",
              "      <td>0</td>\n",
              "      <td>0</td>\n",
              "      <td>0</td>\n",
              "      <td>0</td>\n",
              "      <td>0</td>\n",
              "      <td>0</td>\n",
              "      <td>0</td>\n",
              "      <td>0</td>\n",
              "      <td>0</td>\n",
              "      <td>0</td>\n",
              "      <td>1</td>\n",
              "      <td>0</td>\n",
              "      <td>0</td>\n",
              "      <td>0</td>\n",
              "      <td>0</td>\n",
              "      <td>0</td>\n",
              "      <td>0</td>\n",
              "      <td>0</td>\n",
              "      <td>0</td>\n",
              "      <td>0</td>\n",
              "      <td>0</td>\n",
              "      <td>2</td>\n",
              "    </tr>\n",
              "    <tr>\n",
              "      <th>4</th>\n",
              "      <td>2595</td>\n",
              "      <td>45</td>\n",
              "      <td>2</td>\n",
              "      <td>153</td>\n",
              "      <td>-1</td>\n",
              "      <td>391</td>\n",
              "      <td>220</td>\n",
              "      <td>234</td>\n",
              "      <td>150</td>\n",
              "      <td>6172</td>\n",
              "      <td>1</td>\n",
              "      <td>0</td>\n",
              "      <td>0</td>\n",
              "      <td>0</td>\n",
              "      <td>0</td>\n",
              "      <td>0</td>\n",
              "      <td>0</td>\n",
              "      <td>0</td>\n",
              "      <td>0</td>\n",
              "      <td>0</td>\n",
              "      <td>0</td>\n",
              "      <td>0</td>\n",
              "      <td>0</td>\n",
              "      <td>0</td>\n",
              "      <td>0</td>\n",
              "      <td>0</td>\n",
              "      <td>0</td>\n",
              "      <td>0</td>\n",
              "      <td>0</td>\n",
              "      <td>0</td>\n",
              "      <td>0</td>\n",
              "      <td>0</td>\n",
              "      <td>0</td>\n",
              "      <td>0</td>\n",
              "      <td>0</td>\n",
              "      <td>0</td>\n",
              "      <td>0</td>\n",
              "      <td>0</td>\n",
              "      <td>0</td>\n",
              "      <td>0</td>\n",
              "      <td>0</td>\n",
              "      <td>0</td>\n",
              "      <td>1</td>\n",
              "      <td>0</td>\n",
              "      <td>0</td>\n",
              "      <td>0</td>\n",
              "      <td>0</td>\n",
              "      <td>0</td>\n",
              "      <td>0</td>\n",
              "      <td>0</td>\n",
              "      <td>0</td>\n",
              "      <td>0</td>\n",
              "      <td>0</td>\n",
              "      <td>0</td>\n",
              "      <td>5</td>\n",
              "    </tr>\n",
              "  </tbody>\n",
              "</table>\n",
              "</div>"
            ],
            "text/plain": [
              "  Elevation Aspect Slope  ... Soil_Type39 Soil_Type40 target\n",
              "0      2596     51     3  ...           0           0      5\n",
              "1      2590     56     2  ...           0           0      5\n",
              "2      2804    139     9  ...           0           0      2\n",
              "3      2785    155    18  ...           0           0      2\n",
              "4      2595     45     2  ...           0           0      5\n",
              "\n",
              "[5 rows x 55 columns]"
            ]
          },
          "metadata": {
            "tags": []
          },
          "execution_count": 14
        }
      ]
    },
    {
      "cell_type": "code",
      "metadata": {
        "id": "lFtdkP7slK-X",
        "colab_type": "code",
        "colab": {
          "base_uri": "https://localhost:8080/",
          "height": 34
        },
        "outputId": "51392748-e1c1-44fd-dc58-3776a815e640"
      },
      "source": [
        "covtype_df.memory_usage(index=True).sum()"
      ],
      "execution_count": 15,
      "outputs": [
        {
          "output_type": "execute_result",
          "data": {
            "text/plain": [
              "255645408"
            ]
          },
          "metadata": {
            "tags": []
          },
          "execution_count": 15
        }
      ]
    },
    {
      "cell_type": "code",
      "metadata": {
        "id": "xGWRndUAmNZC",
        "colab_type": "code",
        "colab": {
          "base_uri": "https://localhost:8080/",
          "height": 34
        },
        "outputId": "f3ae5724-e104-42f8-cf1b-a38650ac1e51"
      },
      "source": [
        "covtype_df.shape"
      ],
      "execution_count": 16,
      "outputs": [
        {
          "output_type": "execute_result",
          "data": {
            "text/plain": [
              "(581012, 55)"
            ]
          },
          "metadata": {
            "tags": []
          },
          "execution_count": 16
        }
      ]
    },
    {
      "cell_type": "code",
      "metadata": {
        "id": "fuvbm1C0mZDE",
        "colab_type": "code",
        "colab": {
          "base_uri": "https://localhost:8080/",
          "height": 151
        },
        "outputId": "cc8a1509-aa86-4fbd-d899-30370a184966"
      },
      "source": [
        "covtype_df.target.value_counts()"
      ],
      "execution_count": 17,
      "outputs": [
        {
          "output_type": "execute_result",
          "data": {
            "text/plain": [
              "2    283301\n",
              "1    211840\n",
              "3     35754\n",
              "7     20510\n",
              "6     17367\n",
              "5      9493\n",
              "4      2747\n",
              "Name: target, dtype: int64"
            ]
          },
          "metadata": {
            "tags": []
          },
          "execution_count": 17
        }
      ]
    },
    {
      "cell_type": "code",
      "metadata": {
        "id": "CYEctcEimdq0",
        "colab_type": "code",
        "colab": {
          "base_uri": "https://localhost:8080/",
          "height": 958
        },
        "outputId": "b9f7bba1-3265-4759-f85f-056a49a2d335"
      },
      "source": [
        "covtype_df.dtypes"
      ],
      "execution_count": 18,
      "outputs": [
        {
          "output_type": "execute_result",
          "data": {
            "text/plain": [
              "Elevation                             object\n",
              "Aspect                                object\n",
              "Slope                                 object\n",
              "Horizontal_Distance_To_Hydrology      object\n",
              "Vertical_Distance_To_Hydrology        object\n",
              "Horizontal_Distance_To_Roadways       object\n",
              "Hillshade_9am                         object\n",
              "Hillshade_Noon                        object\n",
              "Hillshade_3pm                         object\n",
              "Horizontal_Distance_To_Fire_Points    object\n",
              "Wilderness_Area1                      object\n",
              "Wilderness_Area2                      object\n",
              "Wilderness_Area3                      object\n",
              "Wilderness_Area4                      object\n",
              "Soil_Type1                            object\n",
              "Soil_Type2                            object\n",
              "Soil_Type3                            object\n",
              "Soil_Type4                            object\n",
              "Soil_Type5                            object\n",
              "Soil_Type6                            object\n",
              "Soil_Type7                            object\n",
              "Soil_Type8                            object\n",
              "Soil_Type9                            object\n",
              "Soil_Type10                           object\n",
              "Soil_Type11                           object\n",
              "Soil_Type12                           object\n",
              "Soil_Type13                           object\n",
              "Soil_Type14                           object\n",
              "Soil_Type15                           object\n",
              "Soil_Type16                           object\n",
              "Soil_Type17                           object\n",
              "Soil_Type18                           object\n",
              "Soil_Type19                           object\n",
              "Soil_Type20                           object\n",
              "Soil_Type21                           object\n",
              "Soil_Type22                           object\n",
              "Soil_Type23                           object\n",
              "Soil_Type24                           object\n",
              "Soil_Type25                           object\n",
              "Soil_Type26                           object\n",
              "Soil_Type27                           object\n",
              "Soil_Type28                           object\n",
              "Soil_Type29                           object\n",
              "Soil_Type30                           object\n",
              "Soil_Type31                           object\n",
              "Soil_Type32                           object\n",
              "Soil_Type33                           object\n",
              "Soil_Type34                           object\n",
              "Soil_Type35                           object\n",
              "Soil_Type36                           object\n",
              "Soil_Type37                           object\n",
              "Soil_Type38                           object\n",
              "Soil_Type39                           object\n",
              "Soil_Type40                           object\n",
              "target                                object\n",
              "dtype: object"
            ]
          },
          "metadata": {
            "tags": []
          },
          "execution_count": 18
        }
      ]
    },
    {
      "cell_type": "code",
      "metadata": {
        "id": "5aosXkvzmlKp",
        "colab_type": "code",
        "colab": {}
      },
      "source": [
        "# converting datatypes from object to the numeric \n",
        "for col in covtype_df.columns:\n",
        "  covtype_df[col] = pd.to_numeric(covtype_df[col])"
      ],
      "execution_count": 0,
      "outputs": []
    },
    {
      "cell_type": "code",
      "metadata": {
        "id": "0Tl-OF7HnAFI",
        "colab_type": "code",
        "colab": {}
      },
      "source": [
        "# re construct the target values\n",
        "covtype_df['target'] = covtype_df['target'] - 1"
      ],
      "execution_count": 0,
      "outputs": []
    },
    {
      "cell_type": "code",
      "metadata": {
        "id": "mJvS2KaxnMYl",
        "colab_type": "code",
        "colab": {
          "base_uri": "https://localhost:8080/",
          "height": 958
        },
        "outputId": "4b42bb75-a3d9-4214-bce6-41c51364ff1b"
      },
      "source": [
        "covtype_df.dtypes"
      ],
      "execution_count": 21,
      "outputs": [
        {
          "output_type": "execute_result",
          "data": {
            "text/plain": [
              "Elevation                             float64\n",
              "Aspect                                float64\n",
              "Slope                                 float64\n",
              "Horizontal_Distance_To_Hydrology      float64\n",
              "Vertical_Distance_To_Hydrology        float64\n",
              "Horizontal_Distance_To_Roadways       float64\n",
              "Hillshade_9am                         float64\n",
              "Hillshade_Noon                        float64\n",
              "Hillshade_3pm                         float64\n",
              "Horizontal_Distance_To_Fire_Points    float64\n",
              "Wilderness_Area1                      float64\n",
              "Wilderness_Area2                      float64\n",
              "Wilderness_Area3                      float64\n",
              "Wilderness_Area4                      float64\n",
              "Soil_Type1                            float64\n",
              "Soil_Type2                            float64\n",
              "Soil_Type3                            float64\n",
              "Soil_Type4                            float64\n",
              "Soil_Type5                            float64\n",
              "Soil_Type6                            float64\n",
              "Soil_Type7                            float64\n",
              "Soil_Type8                            float64\n",
              "Soil_Type9                            float64\n",
              "Soil_Type10                           float64\n",
              "Soil_Type11                           float64\n",
              "Soil_Type12                           float64\n",
              "Soil_Type13                           float64\n",
              "Soil_Type14                           float64\n",
              "Soil_Type15                           float64\n",
              "Soil_Type16                           float64\n",
              "Soil_Type17                           float64\n",
              "Soil_Type18                           float64\n",
              "Soil_Type19                           float64\n",
              "Soil_Type20                           float64\n",
              "Soil_Type21                           float64\n",
              "Soil_Type22                           float64\n",
              "Soil_Type23                           float64\n",
              "Soil_Type24                           float64\n",
              "Soil_Type25                           float64\n",
              "Soil_Type26                           float64\n",
              "Soil_Type27                           float64\n",
              "Soil_Type28                           float64\n",
              "Soil_Type29                           float64\n",
              "Soil_Type30                           float64\n",
              "Soil_Type31                           float64\n",
              "Soil_Type32                           float64\n",
              "Soil_Type33                           float64\n",
              "Soil_Type34                           float64\n",
              "Soil_Type35                           float64\n",
              "Soil_Type36                           float64\n",
              "Soil_Type37                           float64\n",
              "Soil_Type38                           float64\n",
              "Soil_Type39                           float64\n",
              "Soil_Type40                           float64\n",
              "target                                  int64\n",
              "dtype: object"
            ]
          },
          "metadata": {
            "tags": []
          },
          "execution_count": 21
        }
      ]
    },
    {
      "cell_type": "markdown",
      "metadata": {
        "id": "d9idcxJsnczM",
        "colab_type": "text"
      },
      "source": [
        "### Splitting the dataset"
      ]
    },
    {
      "cell_type": "code",
      "metadata": {
        "id": "_s8xO6oqnPS7",
        "colab_type": "code",
        "colab": {}
      },
      "source": [
        "train_df = covtype_df.sample(frac=0.8, random_state=10)\n",
        "test_df = covtype_df.drop(train_df.index)"
      ],
      "execution_count": 0,
      "outputs": []
    },
    {
      "cell_type": "code",
      "metadata": {
        "id": "_vSIHrw8nu9W",
        "colab_type": "code",
        "colab": {
          "base_uri": "https://localhost:8080/",
          "height": 34
        },
        "outputId": "a947e204-88d8-498e-fde0-ba7f672fb8d2"
      },
      "source": [
        "(train_df.shape, test_df.shape)"
      ],
      "execution_count": 23,
      "outputs": [
        {
          "output_type": "execute_result",
          "data": {
            "text/plain": [
              "((464810, 55), (116202, 55))"
            ]
          },
          "metadata": {
            "tags": []
          },
          "execution_count": 23
        }
      ]
    },
    {
      "cell_type": "markdown",
      "metadata": {
        "id": "9Rn4AAyHn4dr",
        "colab_type": "text"
      },
      "source": [
        "### Save to file"
      ]
    },
    {
      "cell_type": "code",
      "metadata": {
        "id": "IMMTHjY6n1dw",
        "colab_type": "code",
        "colab": {}
      },
      "source": [
        "train_df.to_parquet(fname='covtype_train.parquet', compression='snappy', index=False)\n",
        "test_df.to_parquet(fname='covtype_test.parquet', compression='snappy', index=False)"
      ],
      "execution_count": 0,
      "outputs": []
    },
    {
      "cell_type": "code",
      "metadata": {
        "id": "881bKSWgoXbO",
        "colab_type": "code",
        "colab": {
          "base_uri": "https://localhost:8080/",
          "height": 84
        },
        "outputId": "3f35bf4c-9ab9-481a-d8f6-b5814d9aec69"
      },
      "source": [
        "!ls"
      ],
      "execution_count": 25,
      "outputs": [
        {
          "output_type": "stream",
          "text": [
            "covtype_test.parquet\t spark-2.4.5-bin-hadoop2.7\n",
            "covtype_train.parquet\t spark-2.4.5-bin-hadoop2.7.tgz\n",
            "cudf-0.9.2-cuda10-1.jar  xgboost4j_2.x-1.0.0-Beta5.jar\n",
            "sample_data\t\t xgboost4j-spark_2.x-1.0.0-Beta5.jar\n"
          ],
          "name": "stdout"
        }
      ]
    },
    {
      "cell_type": "markdown",
      "metadata": {
        "id": "tdKNSO4gofL4",
        "colab_type": "text"
      },
      "source": [
        "### Load the saved file"
      ]
    },
    {
      "cell_type": "code",
      "metadata": {
        "id": "8BLgEC8oodMW",
        "colab_type": "code",
        "colab": {}
      },
      "source": [
        "import pyarrow.parquet as pq"
      ],
      "execution_count": 0,
      "outputs": []
    },
    {
      "cell_type": "code",
      "metadata": {
        "id": "LHIafrvzolsK",
        "colab_type": "code",
        "colab": {}
      },
      "source": [
        "pq_table = pq.read_table('covtype_train.parquet')"
      ],
      "execution_count": 0,
      "outputs": []
    },
    {
      "cell_type": "code",
      "metadata": {
        "id": "W_C67rfppHUw",
        "colab_type": "code",
        "colab": {}
      },
      "source": [
        "# Load the data in GPU Memory from Local Memory\n",
        "train_data = GpuDataReader(spark).format('parquet').load('/content/covtype_train.parquet')\n",
        "test_data = GpuDataReader(spark).format('parquet').load('covtype_test.parquet')"
      ],
      "execution_count": 0,
      "outputs": []
    },
    {
      "cell_type": "code",
      "metadata": {
        "id": "cYqGr8Hbtif2",
        "colab_type": "code",
        "colab": {
          "base_uri": "https://localhost:8080/",
          "height": 34
        },
        "outputId": "c8437799-9453-414e-809d-79a49a006fdf"
      },
      "source": [
        "train_data.schema"
      ],
      "execution_count": 33,
      "outputs": [
        {
          "output_type": "execute_result",
          "data": {
            "text/plain": [
              "<bound method GpuDataset.schema of <ml.dmlc.xgboost4j.scala.spark.rapids.GpuDataset object at 0x7fe201ab5828>>"
            ]
          },
          "metadata": {
            "tags": []
          },
          "execution_count": 33
        }
      ]
    },
    {
      "cell_type": "code",
      "metadata": {
        "id": "q84E4YBuqB1V",
        "colab_type": "code",
        "colab": {
          "base_uri": "https://localhost:8080/",
          "height": 924
        },
        "outputId": "8e6ca610-2813-49f1-858e-63524b12bc33"
      },
      "source": [
        "# seperate features and lables in the train dataset\n",
        "label = \"target\"\n",
        "features = [col for col in pq_table.column_names if col != label ]\n",
        "features"
      ],
      "execution_count": 34,
      "outputs": [
        {
          "output_type": "execute_result",
          "data": {
            "text/plain": [
              "['Elevation',\n",
              " 'Aspect',\n",
              " 'Slope',\n",
              " 'Horizontal_Distance_To_Hydrology',\n",
              " 'Vertical_Distance_To_Hydrology',\n",
              " 'Horizontal_Distance_To_Roadways',\n",
              " 'Hillshade_9am',\n",
              " 'Hillshade_Noon',\n",
              " 'Hillshade_3pm',\n",
              " 'Horizontal_Distance_To_Fire_Points',\n",
              " 'Wilderness_Area1',\n",
              " 'Wilderness_Area2',\n",
              " 'Wilderness_Area3',\n",
              " 'Wilderness_Area4',\n",
              " 'Soil_Type1',\n",
              " 'Soil_Type2',\n",
              " 'Soil_Type3',\n",
              " 'Soil_Type4',\n",
              " 'Soil_Type5',\n",
              " 'Soil_Type6',\n",
              " 'Soil_Type7',\n",
              " 'Soil_Type8',\n",
              " 'Soil_Type9',\n",
              " 'Soil_Type10',\n",
              " 'Soil_Type11',\n",
              " 'Soil_Type12',\n",
              " 'Soil_Type13',\n",
              " 'Soil_Type14',\n",
              " 'Soil_Type15',\n",
              " 'Soil_Type16',\n",
              " 'Soil_Type17',\n",
              " 'Soil_Type18',\n",
              " 'Soil_Type19',\n",
              " 'Soil_Type20',\n",
              " 'Soil_Type21',\n",
              " 'Soil_Type22',\n",
              " 'Soil_Type23',\n",
              " 'Soil_Type24',\n",
              " 'Soil_Type25',\n",
              " 'Soil_Type26',\n",
              " 'Soil_Type27',\n",
              " 'Soil_Type28',\n",
              " 'Soil_Type29',\n",
              " 'Soil_Type30',\n",
              " 'Soil_Type31',\n",
              " 'Soil_Type32',\n",
              " 'Soil_Type33',\n",
              " 'Soil_Type34',\n",
              " 'Soil_Type35',\n",
              " 'Soil_Type36',\n",
              " 'Soil_Type37',\n",
              " 'Soil_Type38',\n",
              " 'Soil_Type39',\n",
              " 'Soil_Type40']"
            ]
          },
          "metadata": {
            "tags": []
          },
          "execution_count": 34
        }
      ]
    },
    {
      "cell_type": "markdown",
      "metadata": {
        "id": "3tI1GSntuTia",
        "colab_type": "text"
      },
      "source": [
        "## Modelling"
      ]
    },
    {
      "cell_type": "code",
      "metadata": {
        "id": "HuQPsPZkuPSp",
        "colab_type": "code",
        "colab": {
          "base_uri": "https://localhost:8080/",
          "height": 34
        },
        "outputId": "fcf0f711-b904-4b8a-dc96-8efcfe0820ad"
      },
      "source": [
        "import time\n",
        "params = {\n",
        "    'eta': 0.1,\n",
        "    'gamma': 0.1,\n",
        "    'missing': 0.0,\n",
        "    'treeMethod': 'gpu_hist',\n",
        "    'maxDepth': 8,\n",
        "    'growPolicy': 'depthwise',\n",
        "    'lambda_': 1.0,\n",
        "    'subsample': 1.0,\n",
        "    'numRound': 1000, # create 1000 trees\n",
        "    'numWorkers': 1,\n",
        "    'verbosity': 1\n",
        "  }\n",
        "\n",
        "classifier = XGBoostClassifier(**params).setLabelCol(label).setFeaturesCols(features)\n",
        "classifier"
      ],
      "execution_count": 35,
      "outputs": [
        {
          "output_type": "execute_result",
          "data": {
            "text/plain": [
              "XGBoostClassifier_9f3303baa896"
            ]
          },
          "metadata": {
            "tags": []
          },
          "execution_count": 35
        }
      ]
    },
    {
      "cell_type": "code",
      "metadata": {
        "id": "kRRK5mmwvW84",
        "colab_type": "code",
        "colab": {
          "base_uri": "https://localhost:8080/",
          "height": 34
        },
        "outputId": "e82ddbae-160a-468a-c459-193c36a2f8ea"
      },
      "source": [
        "start_time = time.time()\n",
        "model = classifier.fit(train_data)\n",
        "print(f\"Time Taken: {str(time.time() - start_time)}\")"
      ],
      "execution_count": 37,
      "outputs": [
        {
          "output_type": "stream",
          "text": [
            "Time Taken: 28.228018760681152\n"
          ],
          "name": "stdout"
        }
      ]
    },
    {
      "cell_type": "code",
      "metadata": {
        "id": "StIqoiJsvlDx",
        "colab_type": "code",
        "colab": {
          "base_uri": "https://localhost:8080/",
          "height": 286
        },
        "outputId": "f9ed115d-4806-4c56-a8a3-4950639f0b6e"
      },
      "source": [
        "!nvidia-smi"
      ],
      "execution_count": 38,
      "outputs": [
        {
          "output_type": "stream",
          "text": [
            "Wed Mar 25 22:11:11 2020       \n",
            "+-----------------------------------------------------------------------------+\n",
            "| NVIDIA-SMI 440.64.00    Driver Version: 418.67       CUDA Version: 10.1     |\n",
            "|-------------------------------+----------------------+----------------------+\n",
            "| GPU  Name        Persistence-M| Bus-Id        Disp.A | Volatile Uncorr. ECC |\n",
            "| Fan  Temp  Perf  Pwr:Usage/Cap|         Memory-Usage | GPU-Util  Compute M. |\n",
            "|===============================+======================+======================|\n",
            "|   0  Tesla P4            Off  | 00000000:00:04.0 Off |                    0 |\n",
            "| N/A   47C    P0    23W /  75W |   1005MiB /  7611MiB |      0%      Default |\n",
            "+-------------------------------+----------------------+----------------------+\n",
            "                                                                               \n",
            "+-----------------------------------------------------------------------------+\n",
            "| Processes:                                                       GPU Memory |\n",
            "|  GPU       PID   Type   Process name                             Usage      |\n",
            "|=============================================================================|\n",
            "+-----------------------------------------------------------------------------+\n"
          ],
          "name": "stdout"
        }
      ]
    },
    {
      "cell_type": "markdown",
      "metadata": {
        "id": "tj5EmSUov5as",
        "colab_type": "text"
      },
      "source": [
        "### Save the model"
      ]
    },
    {
      "cell_type": "code",
      "metadata": {
        "id": "bQM6kpqWv4Mf",
        "colab_type": "code",
        "colab": {}
      },
      "source": [
        "model.write().overwrite().save('/content/model/')"
      ],
      "execution_count": 0,
      "outputs": []
    },
    {
      "cell_type": "code",
      "metadata": {
        "id": "5gIsxgWiwNOu",
        "colab_type": "code",
        "colab": {
          "base_uri": "https://localhost:8080/",
          "height": 101
        },
        "outputId": "e39c7039-7d22-4ad2-bb39-36b14185a4ff"
      },
      "source": [
        "!ls"
      ],
      "execution_count": 40,
      "outputs": [
        {
          "output_type": "stream",
          "text": [
            "covtype_test.parquet\t spark-2.4.5-bin-hadoop2.7\n",
            "covtype_train.parquet\t spark-2.4.5-bin-hadoop2.7.tgz\n",
            "cudf-0.9.2-cuda10-1.jar  xgboost4j_2.x-1.0.0-Beta5.jar\n",
            "model\t\t\t xgboost4j-spark_2.x-1.0.0-Beta5.jar\n",
            "sample_data\n"
          ],
          "name": "stdout"
        }
      ]
    },
    {
      "cell_type": "markdown",
      "metadata": {
        "id": "PsewtxmfwVQq",
        "colab_type": "text"
      },
      "source": [
        "### Load the saved model"
      ]
    },
    {
      "cell_type": "code",
      "metadata": {
        "id": "aEFPqbpywOyg",
        "colab_type": "code",
        "colab": {}
      },
      "source": [
        "loaded_model = XGBoostClassificationModel().load('/content/model/')"
      ],
      "execution_count": 0,
      "outputs": []
    },
    {
      "cell_type": "code",
      "metadata": {
        "id": "b8yPUpoGwe-b",
        "colab_type": "code",
        "colab": {}
      },
      "source": [
        "result = loaded_model.transform(test_data)"
      ],
      "execution_count": 0,
      "outputs": []
    },
    {
      "cell_type": "code",
      "metadata": {
        "id": "Gl5P5w3uwrmN",
        "colab_type": "code",
        "colab": {
          "base_uri": "https://localhost:8080/",
          "height": 474
        },
        "outputId": "045c3427-d873-4c23-c30a-945941983632"
      },
      "source": [
        "result.show()"
      ],
      "execution_count": 43,
      "outputs": [
        {
          "output_type": "stream",
          "text": [
            "+---------+------+-----+--------------------------------+------------------------------+-------------------------------+-------------+--------------+-------------+----------------------------------+----------------+----------------+----------------+----------------+----------+----------+----------+----------+----------+----------+----------+----------+----------+-----------+-----------+-----------+-----------+-----------+-----------+-----------+-----------+-----------+-----------+-----------+-----------+-----------+-----------+-----------+-----------+-----------+-----------+-----------+-----------+-----------+-----------+-----------+-----------+-----------+-----------+-----------+-----------+-----------+-----------+-----------+------+--------------------+--------------------+----------+\n",
            "|Elevation|Aspect|Slope|Horizontal_Distance_To_Hydrology|Vertical_Distance_To_Hydrology|Horizontal_Distance_To_Roadways|Hillshade_9am|Hillshade_Noon|Hillshade_3pm|Horizontal_Distance_To_Fire_Points|Wilderness_Area1|Wilderness_Area2|Wilderness_Area3|Wilderness_Area4|Soil_Type1|Soil_Type2|Soil_Type3|Soil_Type4|Soil_Type5|Soil_Type6|Soil_Type7|Soil_Type8|Soil_Type9|Soil_Type10|Soil_Type11|Soil_Type12|Soil_Type13|Soil_Type14|Soil_Type15|Soil_Type16|Soil_Type17|Soil_Type18|Soil_Type19|Soil_Type20|Soil_Type21|Soil_Type22|Soil_Type23|Soil_Type24|Soil_Type25|Soil_Type26|Soil_Type27|Soil_Type28|Soil_Type29|Soil_Type30|Soil_Type31|Soil_Type32|Soil_Type33|Soil_Type34|Soil_Type35|Soil_Type36|Soil_Type37|Soil_Type38|Soil_Type39|Soil_Type40|target|       rawPrediction|         probability|prediction|\n",
            "+---------+------+-----+--------------------------------+------------------------------+-------------------------------+-------------+--------------+-------------+----------------------------------+----------------+----------------+----------------+----------------+----------+----------+----------+----------+----------+----------+----------+----------+----------+-----------+-----------+-----------+-----------+-----------+-----------+-----------+-----------+-----------+-----------+-----------+-----------+-----------+-----------+-----------+-----------+-----------+-----------+-----------+-----------+-----------+-----------+-----------+-----------+-----------+-----------+-----------+-----------+-----------+-----------+-----------+------+--------------------+--------------------+----------+\n",
            "|   2804.0| 139.0|  9.0|                           268.0|                          65.0|                         3180.0|        234.0|         238.0|        135.0|                            6121.0|             1.0|             0.0|             0.0|             0.0|       0.0|       0.0|       0.0|       0.0|       0.0|       0.0|       0.0|       0.0|       0.0|        0.0|        0.0|        1.0|        0.0|        0.0|        0.0|        0.0|        0.0|        0.0|        0.0|        0.0|        0.0|        0.0|        0.0|        0.0|        0.0|        0.0|        0.0|        0.0|        0.0|        0.0|        0.0|        0.0|        0.0|        0.0|        0.0|        0.0|        0.0|        0.0|        0.0|        0.0|   1.0|[-0.7483981251716...|[0.25160187482833...|       1.0|\n",
            "|   2595.0|  45.0|  2.0|                           153.0|                          -1.0|                          391.0|        220.0|         234.0|        150.0|                            6172.0|             1.0|             0.0|             0.0|             0.0|       0.0|       0.0|       0.0|       0.0|       0.0|       0.0|       0.0|       0.0|       0.0|        0.0|        0.0|        0.0|        0.0|        0.0|        0.0|        0.0|        0.0|        0.0|        0.0|        0.0|        0.0|        0.0|        0.0|        0.0|        0.0|        0.0|        0.0|        0.0|        1.0|        0.0|        0.0|        0.0|        0.0|        0.0|        0.0|        0.0|        0.0|        0.0|        0.0|        0.0|   4.0|[-3.6109392642974...|[-2.6109392642974...|       1.0|\n",
            "|   2606.0|  45.0|  7.0|                           270.0|                           5.0|                          633.0|        222.0|         225.0|        138.0|                            6256.0|             1.0|             0.0|             0.0|             0.0|       0.0|       0.0|       0.0|       0.0|       0.0|       0.0|       0.0|       0.0|       0.0|        0.0|        0.0|        0.0|        0.0|        0.0|        0.0|        0.0|        0.0|        0.0|        0.0|        0.0|        0.0|        0.0|        0.0|        0.0|        0.0|        0.0|        0.0|        0.0|        1.0|        0.0|        0.0|        0.0|        0.0|        0.0|        0.0|        0.0|        0.0|        0.0|        0.0|        0.0|   4.0|[-3.9071249961853...|[-2.9071249961853...|       1.0|\n",
            "|   2612.0| 201.0|  4.0|                           180.0|                          51.0|                          735.0|        218.0|         243.0|        161.0|                            6222.0|             1.0|             0.0|             0.0|             0.0|       0.0|       0.0|       0.0|       0.0|       0.0|       0.0|       0.0|       0.0|       0.0|        0.0|        0.0|        0.0|        0.0|        0.0|        0.0|        0.0|        0.0|        1.0|        0.0|        0.0|        0.0|        0.0|        0.0|        0.0|        0.0|        0.0|        0.0|        0.0|        0.0|        0.0|        0.0|        0.0|        0.0|        0.0|        0.0|        0.0|        0.0|        0.0|        0.0|        0.0|   4.0|[-2.7856698036193...|[-1.7856698036193...|       1.0|\n",
            "|   2609.0| 214.0|  7.0|                           150.0|                          46.0|                          771.0|        213.0|         247.0|        170.0|                            6211.0|             1.0|             0.0|             0.0|             0.0|       0.0|       0.0|       0.0|       0.0|       0.0|       0.0|       0.0|       0.0|       0.0|        0.0|        0.0|        0.0|        0.0|        0.0|        0.0|        0.0|        0.0|        1.0|        0.0|        0.0|        0.0|        0.0|        0.0|        0.0|        0.0|        0.0|        0.0|        0.0|        0.0|        0.0|        0.0|        0.0|        0.0|        0.0|        0.0|        0.0|        0.0|        0.0|        0.0|        0.0|   4.0|[-3.4598040580749...|[-2.4598040580749...|       1.0|\n",
            "|   2495.0|  51.0|  7.0|                            42.0|                           2.0|                          752.0|        224.0|         225.0|        137.0|                            5576.0|             1.0|             0.0|             0.0|             0.0|       0.0|       0.0|       0.0|       0.0|       0.0|       0.0|       0.0|       0.0|       0.0|        0.0|        0.0|        0.0|        0.0|        0.0|        0.0|        1.0|        0.0|        0.0|        0.0|        0.0|        0.0|        0.0|        0.0|        0.0|        0.0|        0.0|        0.0|        0.0|        0.0|        0.0|        0.0|        0.0|        0.0|        0.0|        0.0|        0.0|        0.0|        0.0|        0.0|        0.0|   4.0|[-2.3526177406311...|[-1.3526177406311...|       1.0|\n",
            "|   2610.0| 259.0|  1.0|                           120.0|                          -1.0|                          607.0|        216.0|         239.0|        161.0|                            6096.0|             1.0|             0.0|             0.0|             0.0|       0.0|       0.0|       0.0|       0.0|       0.0|       0.0|       0.0|       0.0|       0.0|        0.0|        0.0|        0.0|        0.0|        0.0|        0.0|        0.0|        0.0|        0.0|        0.0|        0.0|        0.0|        0.0|        0.0|        0.0|        0.0|        0.0|        0.0|        0.0|        1.0|        0.0|        0.0|        0.0|        0.0|        0.0|        0.0|        0.0|        0.0|        0.0|        0.0|        0.0|   4.0|[-1.3075125217437...|[-0.3075125217437...|       1.0|\n",
            "|   2503.0|  38.0|  5.0|                            85.0|                          10.0|                          741.0|        220.0|         228.0|        144.0|                            5555.0|             1.0|             0.0|             0.0|             0.0|       0.0|       0.0|       0.0|       0.0|       0.0|       0.0|       0.0|       0.0|       0.0|        0.0|        0.0|        0.0|        0.0|        0.0|        0.0|        0.0|        0.0|        1.0|        0.0|        0.0|        0.0|        0.0|        0.0|        0.0|        0.0|        0.0|        0.0|        0.0|        0.0|        0.0|        0.0|        0.0|        0.0|        0.0|        0.0|        0.0|        0.0|        0.0|        0.0|        0.0|   4.0|[-2.7987403869628...|[-1.7987403869628...|       1.0|\n",
            "|   2880.0| 209.0| 17.0|                           216.0|                          30.0|                         4986.0|        206.0|         253.0|        179.0|                            4323.0|             1.0|             0.0|             0.0|             0.0|       0.0|       0.0|       0.0|       0.0|       0.0|       0.0|       0.0|       0.0|       0.0|        0.0|        0.0|        0.0|        0.0|        0.0|        0.0|        0.0|        0.0|        0.0|        0.0|        0.0|        0.0|        0.0|        0.0|        0.0|        0.0|        0.0|        0.0|        0.0|        0.0|        1.0|        0.0|        0.0|        0.0|        0.0|        0.0|        0.0|        0.0|        0.0|        0.0|        0.0|   1.0|[-1.0144832134246...|[-0.0144832134246...|       1.0|\n",
            "|   2768.0| 114.0| 23.0|                           192.0|                          82.0|                         3339.0|        252.0|         209.0|         71.0|                            5972.0|             1.0|             0.0|             0.0|             0.0|       0.0|       0.0|       0.0|       0.0|       0.0|       0.0|       0.0|       0.0|       0.0|        0.0|        0.0|        0.0|        0.0|        0.0|        0.0|        0.0|        0.0|        0.0|        0.0|        0.0|        0.0|        0.0|        0.0|        0.0|        0.0|        0.0|        0.0|        0.0|        0.0|        1.0|        0.0|        0.0|        0.0|        0.0|        0.0|        0.0|        0.0|        0.0|        0.0|        0.0|   4.0|[-2.5946390628814...|[-1.5946390628814...|       1.0|\n",
            "|   2507.0|  22.0|  9.0|                           120.0|                          14.0|                          732.0|        215.0|         221.0|        143.0|                            5534.0|             1.0|             0.0|             0.0|             0.0|       0.0|       0.0|       0.0|       0.0|       0.0|       0.0|       0.0|       0.0|       0.0|        0.0|        0.0|        0.0|        0.0|        0.0|        0.0|        0.0|        0.0|        1.0|        0.0|        0.0|        0.0|        0.0|        0.0|        0.0|        0.0|        0.0|        0.0|        0.0|        0.0|        0.0|        0.0|        0.0|        0.0|        0.0|        0.0|        0.0|        0.0|        0.0|        0.0|        0.0|   4.0|[-3.2143175601959...|[-2.2143175601959...|       1.0|\n",
            "|   2492.0| 135.0|  6.0|                             0.0|                           0.0|                          860.0|        229.0|         237.0|        142.0|                            5494.0|             1.0|             0.0|             0.0|             0.0|       0.0|       0.0|       0.0|       0.0|       0.0|       0.0|       0.0|       0.0|       0.0|        0.0|        0.0|        0.0|        0.0|        0.0|        0.0|        0.0|        0.0|        1.0|        0.0|        0.0|        0.0|        0.0|        0.0|        0.0|        0.0|        0.0|        0.0|        0.0|        0.0|        0.0|        0.0|        0.0|        0.0|        0.0|        0.0|        0.0|        0.0|        0.0|        0.0|        0.0|   4.0|[-2.6894812583923...|[-1.6894812583923...|       1.0|\n",
            "|   2678.0| 128.0|  5.0|                            95.0|                          23.0|                         1660.0|        229.0|         236.0|        141.0|                            6546.0|             1.0|             0.0|             0.0|             0.0|       0.0|       0.0|       0.0|       0.0|       0.0|       0.0|       0.0|       0.0|       0.0|        0.0|        0.0|        1.0|        0.0|        0.0|        0.0|        0.0|        0.0|        0.0|        0.0|        0.0|        0.0|        0.0|        0.0|        0.0|        0.0|        0.0|        0.0|        0.0|        0.0|        0.0|        0.0|        0.0|        0.0|        0.0|        0.0|        0.0|        0.0|        0.0|        0.0|        0.0|   1.0|[-0.8281586170196...|[0.17184138298034...|       1.0|\n",
            "|   2489.0| 100.0|  7.0|                            85.0|                          13.0|                          810.0|        232.0|         231.0|        131.0|                            5334.0|             1.0|             0.0|             0.0|             0.0|       0.0|       0.0|       0.0|       0.0|       0.0|       0.0|       0.0|       0.0|       0.0|        0.0|        0.0|        0.0|        0.0|        0.0|        0.0|        0.0|        0.0|        1.0|        0.0|        0.0|        0.0|        0.0|        0.0|        0.0|        0.0|        0.0|        0.0|        0.0|        0.0|        0.0|        0.0|        0.0|        0.0|        0.0|        0.0|        0.0|        0.0|        0.0|        0.0|        0.0|   4.0|[-2.7047965526580...|[-1.7047965526580...|       1.0|\n",
            "|   2722.0| 315.0| 24.0|                            30.0|                          19.0|                         3216.0|        148.0|         212.0|        200.0|                            6132.0|             1.0|             0.0|             0.0|             0.0|       0.0|       0.0|       0.0|       0.0|       0.0|       0.0|       0.0|       0.0|       0.0|        0.0|        0.0|        0.0|        0.0|        0.0|        0.0|        1.0|        0.0|        0.0|        0.0|        0.0|        0.0|        0.0|        0.0|        0.0|        0.0|        0.0|        0.0|        0.0|        0.0|        0.0|        0.0|        0.0|        0.0|        0.0|        0.0|        0.0|        0.0|        0.0|        0.0|        0.0|   0.0|[-0.3309877812862...|[0.66901221871376...|       0.0|\n",
            "|   2705.0|  90.0|  8.0|                           134.0|                          22.0|                         2023.0|        232.0|         228.0|        129.0|                            6615.0|             1.0|             0.0|             0.0|             0.0|       0.0|       0.0|       0.0|       0.0|       0.0|       0.0|       0.0|       0.0|       0.0|        0.0|        0.0|        1.0|        0.0|        0.0|        0.0|        0.0|        0.0|        0.0|        0.0|        0.0|        0.0|        0.0|        0.0|        0.0|        0.0|        0.0|        0.0|        0.0|        0.0|        0.0|        0.0|        0.0|        0.0|        0.0|        0.0|        0.0|        0.0|        0.0|        0.0|        0.0|   1.0|[-0.6333320140838...|[0.36666798591613...|       1.0|\n",
            "|   2509.0|  59.0|  7.0|                           134.0|                          10.0|                          900.0|        226.0|         226.0|        134.0|                            5184.0|             1.0|             0.0|             0.0|             0.0|       0.0|       0.0|       0.0|       0.0|       0.0|       0.0|       0.0|       0.0|       0.0|        0.0|        0.0|        0.0|        0.0|        0.0|        0.0|        0.0|        0.0|        1.0|        0.0|        0.0|        0.0|        0.0|        0.0|        0.0|        0.0|        0.0|        0.0|        0.0|        0.0|        0.0|        0.0|        0.0|        0.0|        0.0|        0.0|        0.0|        0.0|        0.0|        0.0|        0.0|   4.0|[-1.9129658937454...|[-0.9129658937454...|       1.0|\n",
            "|   2791.0|  63.0| 10.0|                           418.0|                          48.0|                         2942.0|        229.0|         221.0|        124.0|                            6606.0|             1.0|             0.0|             0.0|             0.0|       0.0|       0.0|       0.0|       0.0|       0.0|       0.0|       0.0|       0.0|       0.0|        0.0|        0.0|        1.0|        0.0|        0.0|        0.0|        0.0|        0.0|        0.0|        0.0|        0.0|        0.0|        0.0|        0.0|        0.0|        0.0|        0.0|        0.0|        0.0|        0.0|        0.0|        0.0|        0.0|        0.0|        0.0|        0.0|        0.0|        0.0|        0.0|        0.0|        0.0|   1.0|[-0.8340892791748...|[0.16591072082519...|       1.0|\n",
            "|   2998.0|  45.0|  8.0|                           351.0|                          16.0|                         5842.0|        223.0|         222.0|        134.0|                            3721.0|             1.0|             0.0|             0.0|             0.0|       0.0|       0.0|       0.0|       0.0|       0.0|       0.0|       0.0|       0.0|       0.0|        0.0|        0.0|        0.0|        0.0|        0.0|        0.0|        0.0|        0.0|        0.0|        0.0|        0.0|        0.0|        0.0|        0.0|        0.0|        0.0|        0.0|        0.0|        0.0|        1.0|        0.0|        0.0|        0.0|        0.0|        0.0|        0.0|        0.0|        0.0|        0.0|        0.0|        0.0|   1.0|[-0.7601909637451...|[0.23980903625488...|       1.0|\n",
            "|   3067.0|  32.0|  4.0|                            30.0|                          -2.0|                         6679.0|        219.0|         230.0|        147.0|                            2947.0|             1.0|             0.0|             0.0|             0.0|       0.0|       0.0|       0.0|       0.0|       0.0|       0.0|       0.0|       0.0|       0.0|        0.0|        0.0|        0.0|        0.0|        0.0|        0.0|        0.0|        0.0|        0.0|        0.0|        1.0|        0.0|        0.0|        0.0|        0.0|        0.0|        0.0|        0.0|        0.0|        0.0|        0.0|        0.0|        0.0|        0.0|        0.0|        0.0|        0.0|        0.0|        0.0|        0.0|        0.0|   1.0|[-1.0316705703735...|[-0.0316705703735...|       1.0|\n",
            "+---------+------+-----+--------------------------------+------------------------------+-------------------------------+-------------+--------------+-------------+----------------------------------+----------------+----------------+----------------+----------------+----------+----------+----------+----------+----------+----------+----------+----------+----------+-----------+-----------+-----------+-----------+-----------+-----------+-----------+-----------+-----------+-----------+-----------+-----------+-----------+-----------+-----------+-----------+-----------+-----------+-----------+-----------+-----------+-----------+-----------+-----------+-----------+-----------+-----------+-----------+-----------+-----------+-----------+------+--------------------+--------------------+----------+\n",
            "only showing top 20 rows\n",
            "\n"
          ],
          "name": "stdout"
        }
      ]
    },
    {
      "cell_type": "markdown",
      "metadata": {
        "id": "WIOE5pB7w-jm",
        "colab_type": "text"
      },
      "source": [
        "### Evaluation"
      ]
    },
    {
      "cell_type": "code",
      "metadata": {
        "id": "dcV7z725wtbj",
        "colab_type": "code",
        "colab": {
          "base_uri": "https://localhost:8080/",
          "height": 34
        },
        "outputId": "5655098d-90fc-4863-ee4c-15d8f65b4ffc"
      },
      "source": [
        "MulticlassClassificationEvaluator().setLabelCol(label).evaluate(result)"
      ],
      "execution_count": 44,
      "outputs": [
        {
          "output_type": "execute_result",
          "data": {
            "text/plain": [
              "0.7143879104341959"
            ]
          },
          "metadata": {
            "tags": []
          },
          "execution_count": 44
        }
      ]
    },
    {
      "cell_type": "code",
      "metadata": {
        "id": "M3VOUBRZxJD0",
        "colab_type": "code",
        "colab": {}
      },
      "source": [
        ""
      ],
      "execution_count": 0,
      "outputs": []
    }
  ]
}